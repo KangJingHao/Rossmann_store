{
 "cells": [
  {
   "cell_type": "code",
   "execution_count": 1,
   "metadata": {
    "colab": {
     "base_uri": "https://localhost:8080/",
     "height": 125
    },
    "colab_type": "code",
    "id": "h3p4Hk4PZC3G",
    "outputId": "4fcb0e4d-0644-4c1a-f20a-a75a7dda2086"
   },
   "outputs": [
    {
     "name": "stdout",
     "output_type": "stream",
     "text": [
      "Go to this URL in a browser: https://accounts.google.com/o/oauth2/auth?client_id=947318989803-6bn6qk8qdgf4n4g3pfee6491hc0brc4i.apps.googleusercontent.com&redirect_uri=urn%3aietf%3awg%3aoauth%3a2.0%3aoob&response_type=code&scope=email%20https%3a%2f%2fwww.googleapis.com%2fauth%2fdocs.test%20https%3a%2f%2fwww.googleapis.com%2fauth%2fdrive%20https%3a%2f%2fwww.googleapis.com%2fauth%2fdrive.photos.readonly%20https%3a%2f%2fwww.googleapis.com%2fauth%2fpeopleapi.readonly\n",
      "\n",
      "Enter your authorization code:\n",
      "··········\n",
      "Mounted at /content/drive\n"
     ]
    }
   ],
   "source": [
    "#讓colab能讀取到google drive\n",
    "from google.colab import drive\n",
    "drive.mount('/content/drive')"
   ]
  },
  {
   "cell_type": "code",
   "execution_count": 2,
   "metadata": {
    "colab": {
     "base_uri": "https://localhost:8080/",
     "height": 35
    },
    "colab_type": "code",
    "id": "7Iq8r3xOZazp",
    "outputId": "60c6d285-8482-447b-b60b-e7428f01eea2"
   },
   "outputs": [
    {
     "name": "stdout",
     "output_type": "stream",
     "text": [
      "/content/drive/My Drive/Kaggle\n"
     ]
    }
   ],
   "source": [
    "#將系統讀取的位置調整為google drive 所在的地方\n",
    "%cd '/content/drive/My Drive/Kaggle'\n"
   ]
  },
  {
   "cell_type": "code",
   "execution_count": 3,
   "metadata": {
    "colab": {
     "base_uri": "https://localhost:8080/",
     "height": 52
    },
    "colab_type": "code",
    "id": "2nzUkYu2jPya",
    "outputId": "d85b50f0-22fd-473f-b281-087a5e8f024e"
   },
   "outputs": [
    {
     "name": "stderr",
     "output_type": "stream",
     "text": [
      "/usr/local/lib/python3.6/dist-packages/statsmodels/tools/_testing.py:19: FutureWarning: pandas.util.testing is deprecated. Use the functions in the public API at pandas.testing instead.\n",
      "  import pandas.util.testing as tm\n"
     ]
    }
   ],
   "source": [
    "#讀取目前需要的python各種套件\n",
    "import pandas as pd\n",
    "import numpy as np\n",
    "import matplotlib.pyplot as plt\n",
    "import seaborn as sns\n",
    "%matplotlib inline\n",
    "import datetime as dt"
   ]
  },
  {
   "cell_type": "code",
   "execution_count": 4,
   "metadata": {
    "colab": {
     "base_uri": "https://localhost:8080/",
     "height": 52
    },
    "colab_type": "code",
    "id": "6h88UqnQja-q",
    "outputId": "e5b1de63-87cb-42b4-f721-8bc91a035c3e"
   },
   "outputs": [
    {
     "name": "stderr",
     "output_type": "stream",
     "text": [
      "/usr/local/lib/python3.6/dist-packages/IPython/core/interactiveshell.py:2718: DtypeWarning: Columns (7) have mixed types.Specify dtype option on import or set low_memory=False.\n",
      "  interactivity=interactivity, compiler=compiler, result=result)\n"
     ]
    }
   ],
   "source": [
    "#讀取資料\n",
    "train = pd.read_csv('train.csv')\n",
    "test = pd.read_csv('test.csv')\n",
    "store = pd.read_csv('store.csv')"
   ]
  },
  {
   "cell_type": "code",
   "execution_count": 5,
   "metadata": {
    "colab": {
     "base_uri": "https://localhost:8080/",
     "height": 198
    },
    "colab_type": "code",
    "id": "7UvB966Aj-N0",
    "outputId": "5325304d-839d-4cc8-9a1e-88c499e3b5a4"
   },
   "outputs": [
    {
     "data": {
      "text/html": [
       "<div>\n",
       "<style scoped>\n",
       "    .dataframe tbody tr th:only-of-type {\n",
       "        vertical-align: middle;\n",
       "    }\n",
       "\n",
       "    .dataframe tbody tr th {\n",
       "        vertical-align: top;\n",
       "    }\n",
       "\n",
       "    .dataframe thead th {\n",
       "        text-align: right;\n",
       "    }\n",
       "</style>\n",
       "<table border=\"1\" class=\"dataframe\">\n",
       "  <thead>\n",
       "    <tr style=\"text-align: right;\">\n",
       "      <th></th>\n",
       "      <th>Store</th>\n",
       "      <th>DayOfWeek</th>\n",
       "      <th>Date</th>\n",
       "      <th>Sales</th>\n",
       "      <th>Customers</th>\n",
       "      <th>Open</th>\n",
       "      <th>Promo</th>\n",
       "      <th>StateHoliday</th>\n",
       "      <th>SchoolHoliday</th>\n",
       "    </tr>\n",
       "  </thead>\n",
       "  <tbody>\n",
       "    <tr>\n",
       "      <th>0</th>\n",
       "      <td>1</td>\n",
       "      <td>5</td>\n",
       "      <td>2015-07-31</td>\n",
       "      <td>5263</td>\n",
       "      <td>555</td>\n",
       "      <td>1</td>\n",
       "      <td>1</td>\n",
       "      <td>0</td>\n",
       "      <td>1</td>\n",
       "    </tr>\n",
       "    <tr>\n",
       "      <th>1</th>\n",
       "      <td>2</td>\n",
       "      <td>5</td>\n",
       "      <td>2015-07-31</td>\n",
       "      <td>6064</td>\n",
       "      <td>625</td>\n",
       "      <td>1</td>\n",
       "      <td>1</td>\n",
       "      <td>0</td>\n",
       "      <td>1</td>\n",
       "    </tr>\n",
       "    <tr>\n",
       "      <th>2</th>\n",
       "      <td>3</td>\n",
       "      <td>5</td>\n",
       "      <td>2015-07-31</td>\n",
       "      <td>8314</td>\n",
       "      <td>821</td>\n",
       "      <td>1</td>\n",
       "      <td>1</td>\n",
       "      <td>0</td>\n",
       "      <td>1</td>\n",
       "    </tr>\n",
       "    <tr>\n",
       "      <th>3</th>\n",
       "      <td>4</td>\n",
       "      <td>5</td>\n",
       "      <td>2015-07-31</td>\n",
       "      <td>13995</td>\n",
       "      <td>1498</td>\n",
       "      <td>1</td>\n",
       "      <td>1</td>\n",
       "      <td>0</td>\n",
       "      <td>1</td>\n",
       "    </tr>\n",
       "    <tr>\n",
       "      <th>4</th>\n",
       "      <td>5</td>\n",
       "      <td>5</td>\n",
       "      <td>2015-07-31</td>\n",
       "      <td>4822</td>\n",
       "      <td>559</td>\n",
       "      <td>1</td>\n",
       "      <td>1</td>\n",
       "      <td>0</td>\n",
       "      <td>1</td>\n",
       "    </tr>\n",
       "  </tbody>\n",
       "</table>\n",
       "</div>"
      ],
      "text/plain": [
       "   Store  DayOfWeek        Date  Sales  ...  Open  Promo  StateHoliday SchoolHoliday\n",
       "0      1          5  2015-07-31   5263  ...     1      1             0             1\n",
       "1      2          5  2015-07-31   6064  ...     1      1             0             1\n",
       "2      3          5  2015-07-31   8314  ...     1      1             0             1\n",
       "3      4          5  2015-07-31  13995  ...     1      1             0             1\n",
       "4      5          5  2015-07-31   4822  ...     1      1             0             1\n",
       "\n",
       "[5 rows x 9 columns]"
      ]
     },
     "execution_count": 5,
     "metadata": {
      "tags": []
     },
     "output_type": "execute_result"
    }
   ],
   "source": [
    "train.head() #查看train資料的內容"
   ]
  },
  {
   "cell_type": "code",
   "execution_count": 6,
   "metadata": {
    "colab": {
     "base_uri": "https://localhost:8080/",
     "height": 198
    },
    "colab_type": "code",
    "id": "SecP8uLslrxL",
    "outputId": "26631def-dae5-4873-dc56-0abb4732276b"
   },
   "outputs": [
    {
     "data": {
      "text/html": [
       "<div>\n",
       "<style scoped>\n",
       "    .dataframe tbody tr th:only-of-type {\n",
       "        vertical-align: middle;\n",
       "    }\n",
       "\n",
       "    .dataframe tbody tr th {\n",
       "        vertical-align: top;\n",
       "    }\n",
       "\n",
       "    .dataframe thead th {\n",
       "        text-align: right;\n",
       "    }\n",
       "</style>\n",
       "<table border=\"1\" class=\"dataframe\">\n",
       "  <thead>\n",
       "    <tr style=\"text-align: right;\">\n",
       "      <th></th>\n",
       "      <th>Id</th>\n",
       "      <th>Store</th>\n",
       "      <th>DayOfWeek</th>\n",
       "      <th>Date</th>\n",
       "      <th>Open</th>\n",
       "      <th>Promo</th>\n",
       "      <th>StateHoliday</th>\n",
       "      <th>SchoolHoliday</th>\n",
       "    </tr>\n",
       "  </thead>\n",
       "  <tbody>\n",
       "    <tr>\n",
       "      <th>0</th>\n",
       "      <td>1</td>\n",
       "      <td>1</td>\n",
       "      <td>4</td>\n",
       "      <td>2015-09-17</td>\n",
       "      <td>1.0</td>\n",
       "      <td>1</td>\n",
       "      <td>0</td>\n",
       "      <td>0</td>\n",
       "    </tr>\n",
       "    <tr>\n",
       "      <th>1</th>\n",
       "      <td>2</td>\n",
       "      <td>3</td>\n",
       "      <td>4</td>\n",
       "      <td>2015-09-17</td>\n",
       "      <td>1.0</td>\n",
       "      <td>1</td>\n",
       "      <td>0</td>\n",
       "      <td>0</td>\n",
       "    </tr>\n",
       "    <tr>\n",
       "      <th>2</th>\n",
       "      <td>3</td>\n",
       "      <td>7</td>\n",
       "      <td>4</td>\n",
       "      <td>2015-09-17</td>\n",
       "      <td>1.0</td>\n",
       "      <td>1</td>\n",
       "      <td>0</td>\n",
       "      <td>0</td>\n",
       "    </tr>\n",
       "    <tr>\n",
       "      <th>3</th>\n",
       "      <td>4</td>\n",
       "      <td>8</td>\n",
       "      <td>4</td>\n",
       "      <td>2015-09-17</td>\n",
       "      <td>1.0</td>\n",
       "      <td>1</td>\n",
       "      <td>0</td>\n",
       "      <td>0</td>\n",
       "    </tr>\n",
       "    <tr>\n",
       "      <th>4</th>\n",
       "      <td>5</td>\n",
       "      <td>9</td>\n",
       "      <td>4</td>\n",
       "      <td>2015-09-17</td>\n",
       "      <td>1.0</td>\n",
       "      <td>1</td>\n",
       "      <td>0</td>\n",
       "      <td>0</td>\n",
       "    </tr>\n",
       "  </tbody>\n",
       "</table>\n",
       "</div>"
      ],
      "text/plain": [
       "   Id  Store  DayOfWeek        Date  Open  Promo StateHoliday  SchoolHoliday\n",
       "0   1      1          4  2015-09-17   1.0      1            0              0\n",
       "1   2      3          4  2015-09-17   1.0      1            0              0\n",
       "2   3      7          4  2015-09-17   1.0      1            0              0\n",
       "3   4      8          4  2015-09-17   1.0      1            0              0\n",
       "4   5      9          4  2015-09-17   1.0      1            0              0"
      ]
     },
     "execution_count": 6,
     "metadata": {
      "tags": []
     },
     "output_type": "execute_result"
    }
   ],
   "source": [
    "test.head()#查看test資料的內容"
   ]
  },
  {
   "cell_type": "code",
   "execution_count": 7,
   "metadata": {
    "colab": {
     "base_uri": "https://localhost:8080/",
     "height": 198
    },
    "colab_type": "code",
    "id": "qKvHK1O-vIbl",
    "outputId": "cf1e0ae6-43ee-4ceb-f255-34b6637b410d"
   },
   "outputs": [
    {
     "data": {
      "text/html": [
       "<div>\n",
       "<style scoped>\n",
       "    .dataframe tbody tr th:only-of-type {\n",
       "        vertical-align: middle;\n",
       "    }\n",
       "\n",
       "    .dataframe tbody tr th {\n",
       "        vertical-align: top;\n",
       "    }\n",
       "\n",
       "    .dataframe thead th {\n",
       "        text-align: right;\n",
       "    }\n",
       "</style>\n",
       "<table border=\"1\" class=\"dataframe\">\n",
       "  <thead>\n",
       "    <tr style=\"text-align: right;\">\n",
       "      <th></th>\n",
       "      <th>Store</th>\n",
       "      <th>StoreType</th>\n",
       "      <th>Assortment</th>\n",
       "      <th>CompetitionDistance</th>\n",
       "      <th>CompetitionOpenSinceMonth</th>\n",
       "      <th>CompetitionOpenSinceYear</th>\n",
       "      <th>Promo2</th>\n",
       "      <th>Promo2SinceWeek</th>\n",
       "      <th>Promo2SinceYear</th>\n",
       "      <th>PromoInterval</th>\n",
       "    </tr>\n",
       "  </thead>\n",
       "  <tbody>\n",
       "    <tr>\n",
       "      <th>0</th>\n",
       "      <td>1</td>\n",
       "      <td>c</td>\n",
       "      <td>a</td>\n",
       "      <td>1270.0</td>\n",
       "      <td>9.0</td>\n",
       "      <td>2008.0</td>\n",
       "      <td>0</td>\n",
       "      <td>NaN</td>\n",
       "      <td>NaN</td>\n",
       "      <td>NaN</td>\n",
       "    </tr>\n",
       "    <tr>\n",
       "      <th>1</th>\n",
       "      <td>2</td>\n",
       "      <td>a</td>\n",
       "      <td>a</td>\n",
       "      <td>570.0</td>\n",
       "      <td>11.0</td>\n",
       "      <td>2007.0</td>\n",
       "      <td>1</td>\n",
       "      <td>13.0</td>\n",
       "      <td>2010.0</td>\n",
       "      <td>Jan,Apr,Jul,Oct</td>\n",
       "    </tr>\n",
       "    <tr>\n",
       "      <th>2</th>\n",
       "      <td>3</td>\n",
       "      <td>a</td>\n",
       "      <td>a</td>\n",
       "      <td>14130.0</td>\n",
       "      <td>12.0</td>\n",
       "      <td>2006.0</td>\n",
       "      <td>1</td>\n",
       "      <td>14.0</td>\n",
       "      <td>2011.0</td>\n",
       "      <td>Jan,Apr,Jul,Oct</td>\n",
       "    </tr>\n",
       "    <tr>\n",
       "      <th>3</th>\n",
       "      <td>4</td>\n",
       "      <td>c</td>\n",
       "      <td>c</td>\n",
       "      <td>620.0</td>\n",
       "      <td>9.0</td>\n",
       "      <td>2009.0</td>\n",
       "      <td>0</td>\n",
       "      <td>NaN</td>\n",
       "      <td>NaN</td>\n",
       "      <td>NaN</td>\n",
       "    </tr>\n",
       "    <tr>\n",
       "      <th>4</th>\n",
       "      <td>5</td>\n",
       "      <td>a</td>\n",
       "      <td>a</td>\n",
       "      <td>29910.0</td>\n",
       "      <td>4.0</td>\n",
       "      <td>2015.0</td>\n",
       "      <td>0</td>\n",
       "      <td>NaN</td>\n",
       "      <td>NaN</td>\n",
       "      <td>NaN</td>\n",
       "    </tr>\n",
       "  </tbody>\n",
       "</table>\n",
       "</div>"
      ],
      "text/plain": [
       "   Store StoreType  ... Promo2SinceYear    PromoInterval\n",
       "0      1         c  ...             NaN              NaN\n",
       "1      2         a  ...          2010.0  Jan,Apr,Jul,Oct\n",
       "2      3         a  ...          2011.0  Jan,Apr,Jul,Oct\n",
       "3      4         c  ...             NaN              NaN\n",
       "4      5         a  ...             NaN              NaN\n",
       "\n",
       "[5 rows x 10 columns]"
      ]
     },
     "execution_count": 7,
     "metadata": {
      "tags": []
     },
     "output_type": "execute_result"
    }
   ],
   "source": [
    "store.head() #查看store資料的內容"
   ]
  },
  {
   "cell_type": "code",
   "execution_count": 8,
   "metadata": {
    "colab": {
     "base_uri": "https://localhost:8080/",
     "height": 288
    },
    "colab_type": "code",
    "id": "-dIwWcfQ1mM2",
    "outputId": "878698b4-4fb2-4991-eb28-9da6cd57eb14"
   },
   "outputs": [
    {
     "data": {
      "text/html": [
       "<div>\n",
       "<style scoped>\n",
       "    .dataframe tbody tr th:only-of-type {\n",
       "        vertical-align: middle;\n",
       "    }\n",
       "\n",
       "    .dataframe tbody tr th {\n",
       "        vertical-align: top;\n",
       "    }\n",
       "\n",
       "    .dataframe thead th {\n",
       "        text-align: right;\n",
       "    }\n",
       "</style>\n",
       "<table border=\"1\" class=\"dataframe\">\n",
       "  <thead>\n",
       "    <tr style=\"text-align: right;\">\n",
       "      <th></th>\n",
       "      <th>Store</th>\n",
       "      <th>DayOfWeek</th>\n",
       "      <th>Sales</th>\n",
       "      <th>Customers</th>\n",
       "      <th>Open</th>\n",
       "      <th>Promo</th>\n",
       "      <th>SchoolHoliday</th>\n",
       "    </tr>\n",
       "  </thead>\n",
       "  <tbody>\n",
       "    <tr>\n",
       "      <th>count</th>\n",
       "      <td>1.017209e+06</td>\n",
       "      <td>1.017209e+06</td>\n",
       "      <td>1.017209e+06</td>\n",
       "      <td>1.017209e+06</td>\n",
       "      <td>1.017209e+06</td>\n",
       "      <td>1.017209e+06</td>\n",
       "      <td>1.017209e+06</td>\n",
       "    </tr>\n",
       "    <tr>\n",
       "      <th>mean</th>\n",
       "      <td>5.584297e+02</td>\n",
       "      <td>3.998341e+00</td>\n",
       "      <td>5.773819e+03</td>\n",
       "      <td>6.331459e+02</td>\n",
       "      <td>8.301067e-01</td>\n",
       "      <td>3.815145e-01</td>\n",
       "      <td>1.786467e-01</td>\n",
       "    </tr>\n",
       "    <tr>\n",
       "      <th>std</th>\n",
       "      <td>3.219087e+02</td>\n",
       "      <td>1.997391e+00</td>\n",
       "      <td>3.849926e+03</td>\n",
       "      <td>4.644117e+02</td>\n",
       "      <td>3.755392e-01</td>\n",
       "      <td>4.857586e-01</td>\n",
       "      <td>3.830564e-01</td>\n",
       "    </tr>\n",
       "    <tr>\n",
       "      <th>min</th>\n",
       "      <td>1.000000e+00</td>\n",
       "      <td>1.000000e+00</td>\n",
       "      <td>0.000000e+00</td>\n",
       "      <td>0.000000e+00</td>\n",
       "      <td>0.000000e+00</td>\n",
       "      <td>0.000000e+00</td>\n",
       "      <td>0.000000e+00</td>\n",
       "    </tr>\n",
       "    <tr>\n",
       "      <th>25%</th>\n",
       "      <td>2.800000e+02</td>\n",
       "      <td>2.000000e+00</td>\n",
       "      <td>3.727000e+03</td>\n",
       "      <td>4.050000e+02</td>\n",
       "      <td>1.000000e+00</td>\n",
       "      <td>0.000000e+00</td>\n",
       "      <td>0.000000e+00</td>\n",
       "    </tr>\n",
       "    <tr>\n",
       "      <th>50%</th>\n",
       "      <td>5.580000e+02</td>\n",
       "      <td>4.000000e+00</td>\n",
       "      <td>5.744000e+03</td>\n",
       "      <td>6.090000e+02</td>\n",
       "      <td>1.000000e+00</td>\n",
       "      <td>0.000000e+00</td>\n",
       "      <td>0.000000e+00</td>\n",
       "    </tr>\n",
       "    <tr>\n",
       "      <th>75%</th>\n",
       "      <td>8.380000e+02</td>\n",
       "      <td>6.000000e+00</td>\n",
       "      <td>7.856000e+03</td>\n",
       "      <td>8.370000e+02</td>\n",
       "      <td>1.000000e+00</td>\n",
       "      <td>1.000000e+00</td>\n",
       "      <td>0.000000e+00</td>\n",
       "    </tr>\n",
       "    <tr>\n",
       "      <th>max</th>\n",
       "      <td>1.115000e+03</td>\n",
       "      <td>7.000000e+00</td>\n",
       "      <td>4.155100e+04</td>\n",
       "      <td>7.388000e+03</td>\n",
       "      <td>1.000000e+00</td>\n",
       "      <td>1.000000e+00</td>\n",
       "      <td>1.000000e+00</td>\n",
       "    </tr>\n",
       "  </tbody>\n",
       "</table>\n",
       "</div>"
      ],
      "text/plain": [
       "              Store     DayOfWeek  ...         Promo  SchoolHoliday\n",
       "count  1.017209e+06  1.017209e+06  ...  1.017209e+06   1.017209e+06\n",
       "mean   5.584297e+02  3.998341e+00  ...  3.815145e-01   1.786467e-01\n",
       "std    3.219087e+02  1.997391e+00  ...  4.857586e-01   3.830564e-01\n",
       "min    1.000000e+00  1.000000e+00  ...  0.000000e+00   0.000000e+00\n",
       "25%    2.800000e+02  2.000000e+00  ...  0.000000e+00   0.000000e+00\n",
       "50%    5.580000e+02  4.000000e+00  ...  0.000000e+00   0.000000e+00\n",
       "75%    8.380000e+02  6.000000e+00  ...  1.000000e+00   0.000000e+00\n",
       "max    1.115000e+03  7.000000e+00  ...  1.000000e+00   1.000000e+00\n",
       "\n",
       "[8 rows x 7 columns]"
      ]
     },
     "execution_count": 8,
     "metadata": {
      "tags": []
     },
     "output_type": "execute_result"
    }
   ],
   "source": [
    "train.describe()"
   ]
  },
  {
   "cell_type": "code",
   "execution_count": 9,
   "metadata": {
    "colab": {
     "base_uri": "https://localhost:8080/",
     "height": 288
    },
    "colab_type": "code",
    "id": "IRjOBtTr2PF1",
    "outputId": "cf3e244a-b7f5-41c0-a46d-3c008920699a"
   },
   "outputs": [
    {
     "data": {
      "text/html": [
       "<div>\n",
       "<style scoped>\n",
       "    .dataframe tbody tr th:only-of-type {\n",
       "        vertical-align: middle;\n",
       "    }\n",
       "\n",
       "    .dataframe tbody tr th {\n",
       "        vertical-align: top;\n",
       "    }\n",
       "\n",
       "    .dataframe thead th {\n",
       "        text-align: right;\n",
       "    }\n",
       "</style>\n",
       "<table border=\"1\" class=\"dataframe\">\n",
       "  <thead>\n",
       "    <tr style=\"text-align: right;\">\n",
       "      <th></th>\n",
       "      <th>Id</th>\n",
       "      <th>Store</th>\n",
       "      <th>DayOfWeek</th>\n",
       "      <th>Open</th>\n",
       "      <th>Promo</th>\n",
       "      <th>SchoolHoliday</th>\n",
       "    </tr>\n",
       "  </thead>\n",
       "  <tbody>\n",
       "    <tr>\n",
       "      <th>count</th>\n",
       "      <td>41088.000000</td>\n",
       "      <td>41088.000000</td>\n",
       "      <td>41088.000000</td>\n",
       "      <td>41077.000000</td>\n",
       "      <td>41088.000000</td>\n",
       "      <td>41088.000000</td>\n",
       "    </tr>\n",
       "    <tr>\n",
       "      <th>mean</th>\n",
       "      <td>20544.500000</td>\n",
       "      <td>555.899533</td>\n",
       "      <td>3.979167</td>\n",
       "      <td>0.854322</td>\n",
       "      <td>0.395833</td>\n",
       "      <td>0.443487</td>\n",
       "    </tr>\n",
       "    <tr>\n",
       "      <th>std</th>\n",
       "      <td>11861.228267</td>\n",
       "      <td>320.274496</td>\n",
       "      <td>2.015481</td>\n",
       "      <td>0.352787</td>\n",
       "      <td>0.489035</td>\n",
       "      <td>0.496802</td>\n",
       "    </tr>\n",
       "    <tr>\n",
       "      <th>min</th>\n",
       "      <td>1.000000</td>\n",
       "      <td>1.000000</td>\n",
       "      <td>1.000000</td>\n",
       "      <td>0.000000</td>\n",
       "      <td>0.000000</td>\n",
       "      <td>0.000000</td>\n",
       "    </tr>\n",
       "    <tr>\n",
       "      <th>25%</th>\n",
       "      <td>10272.750000</td>\n",
       "      <td>279.750000</td>\n",
       "      <td>2.000000</td>\n",
       "      <td>1.000000</td>\n",
       "      <td>0.000000</td>\n",
       "      <td>0.000000</td>\n",
       "    </tr>\n",
       "    <tr>\n",
       "      <th>50%</th>\n",
       "      <td>20544.500000</td>\n",
       "      <td>553.500000</td>\n",
       "      <td>4.000000</td>\n",
       "      <td>1.000000</td>\n",
       "      <td>0.000000</td>\n",
       "      <td>0.000000</td>\n",
       "    </tr>\n",
       "    <tr>\n",
       "      <th>75%</th>\n",
       "      <td>30816.250000</td>\n",
       "      <td>832.250000</td>\n",
       "      <td>6.000000</td>\n",
       "      <td>1.000000</td>\n",
       "      <td>1.000000</td>\n",
       "      <td>1.000000</td>\n",
       "    </tr>\n",
       "    <tr>\n",
       "      <th>max</th>\n",
       "      <td>41088.000000</td>\n",
       "      <td>1115.000000</td>\n",
       "      <td>7.000000</td>\n",
       "      <td>1.000000</td>\n",
       "      <td>1.000000</td>\n",
       "      <td>1.000000</td>\n",
       "    </tr>\n",
       "  </tbody>\n",
       "</table>\n",
       "</div>"
      ],
      "text/plain": [
       "                 Id         Store  ...         Promo  SchoolHoliday\n",
       "count  41088.000000  41088.000000  ...  41088.000000   41088.000000\n",
       "mean   20544.500000    555.899533  ...      0.395833       0.443487\n",
       "std    11861.228267    320.274496  ...      0.489035       0.496802\n",
       "min        1.000000      1.000000  ...      0.000000       0.000000\n",
       "25%    10272.750000    279.750000  ...      0.000000       0.000000\n",
       "50%    20544.500000    553.500000  ...      0.000000       0.000000\n",
       "75%    30816.250000    832.250000  ...      1.000000       1.000000\n",
       "max    41088.000000   1115.000000  ...      1.000000       1.000000\n",
       "\n",
       "[8 rows x 6 columns]"
      ]
     },
     "execution_count": 9,
     "metadata": {
      "tags": []
     },
     "output_type": "execute_result"
    }
   ],
   "source": [
    "test.describe()"
   ]
  },
  {
   "cell_type": "code",
   "execution_count": 10,
   "metadata": {
    "colab": {
     "base_uri": "https://localhost:8080/",
     "height": 288
    },
    "colab_type": "code",
    "id": "68_vea5c28SD",
    "outputId": "cee2915d-8002-45ad-f6a0-ef9f04bc175b"
   },
   "outputs": [
    {
     "data": {
      "text/html": [
       "<div>\n",
       "<style scoped>\n",
       "    .dataframe tbody tr th:only-of-type {\n",
       "        vertical-align: middle;\n",
       "    }\n",
       "\n",
       "    .dataframe tbody tr th {\n",
       "        vertical-align: top;\n",
       "    }\n",
       "\n",
       "    .dataframe thead th {\n",
       "        text-align: right;\n",
       "    }\n",
       "</style>\n",
       "<table border=\"1\" class=\"dataframe\">\n",
       "  <thead>\n",
       "    <tr style=\"text-align: right;\">\n",
       "      <th></th>\n",
       "      <th>Store</th>\n",
       "      <th>CompetitionDistance</th>\n",
       "      <th>CompetitionOpenSinceMonth</th>\n",
       "      <th>CompetitionOpenSinceYear</th>\n",
       "      <th>Promo2</th>\n",
       "      <th>Promo2SinceWeek</th>\n",
       "      <th>Promo2SinceYear</th>\n",
       "    </tr>\n",
       "  </thead>\n",
       "  <tbody>\n",
       "    <tr>\n",
       "      <th>count</th>\n",
       "      <td>1115.00000</td>\n",
       "      <td>1112.000000</td>\n",
       "      <td>761.000000</td>\n",
       "      <td>761.000000</td>\n",
       "      <td>1115.000000</td>\n",
       "      <td>571.000000</td>\n",
       "      <td>571.000000</td>\n",
       "    </tr>\n",
       "    <tr>\n",
       "      <th>mean</th>\n",
       "      <td>558.00000</td>\n",
       "      <td>5404.901079</td>\n",
       "      <td>7.224704</td>\n",
       "      <td>2008.668857</td>\n",
       "      <td>0.512108</td>\n",
       "      <td>23.595447</td>\n",
       "      <td>2011.763573</td>\n",
       "    </tr>\n",
       "    <tr>\n",
       "      <th>std</th>\n",
       "      <td>322.01708</td>\n",
       "      <td>7663.174720</td>\n",
       "      <td>3.212348</td>\n",
       "      <td>6.195983</td>\n",
       "      <td>0.500078</td>\n",
       "      <td>14.141984</td>\n",
       "      <td>1.674935</td>\n",
       "    </tr>\n",
       "    <tr>\n",
       "      <th>min</th>\n",
       "      <td>1.00000</td>\n",
       "      <td>20.000000</td>\n",
       "      <td>1.000000</td>\n",
       "      <td>1900.000000</td>\n",
       "      <td>0.000000</td>\n",
       "      <td>1.000000</td>\n",
       "      <td>2009.000000</td>\n",
       "    </tr>\n",
       "    <tr>\n",
       "      <th>25%</th>\n",
       "      <td>279.50000</td>\n",
       "      <td>717.500000</td>\n",
       "      <td>4.000000</td>\n",
       "      <td>2006.000000</td>\n",
       "      <td>0.000000</td>\n",
       "      <td>13.000000</td>\n",
       "      <td>2011.000000</td>\n",
       "    </tr>\n",
       "    <tr>\n",
       "      <th>50%</th>\n",
       "      <td>558.00000</td>\n",
       "      <td>2325.000000</td>\n",
       "      <td>8.000000</td>\n",
       "      <td>2010.000000</td>\n",
       "      <td>1.000000</td>\n",
       "      <td>22.000000</td>\n",
       "      <td>2012.000000</td>\n",
       "    </tr>\n",
       "    <tr>\n",
       "      <th>75%</th>\n",
       "      <td>836.50000</td>\n",
       "      <td>6882.500000</td>\n",
       "      <td>10.000000</td>\n",
       "      <td>2013.000000</td>\n",
       "      <td>1.000000</td>\n",
       "      <td>37.000000</td>\n",
       "      <td>2013.000000</td>\n",
       "    </tr>\n",
       "    <tr>\n",
       "      <th>max</th>\n",
       "      <td>1115.00000</td>\n",
       "      <td>75860.000000</td>\n",
       "      <td>12.000000</td>\n",
       "      <td>2015.000000</td>\n",
       "      <td>1.000000</td>\n",
       "      <td>50.000000</td>\n",
       "      <td>2015.000000</td>\n",
       "    </tr>\n",
       "  </tbody>\n",
       "</table>\n",
       "</div>"
      ],
      "text/plain": [
       "            Store  CompetitionDistance  ...  Promo2SinceWeek  Promo2SinceYear\n",
       "count  1115.00000          1112.000000  ...       571.000000       571.000000\n",
       "mean    558.00000          5404.901079  ...        23.595447      2011.763573\n",
       "std     322.01708          7663.174720  ...        14.141984         1.674935\n",
       "min       1.00000            20.000000  ...         1.000000      2009.000000\n",
       "25%     279.50000           717.500000  ...        13.000000      2011.000000\n",
       "50%     558.00000          2325.000000  ...        22.000000      2012.000000\n",
       "75%     836.50000          6882.500000  ...        37.000000      2013.000000\n",
       "max    1115.00000         75860.000000  ...        50.000000      2015.000000\n",
       "\n",
       "[8 rows x 7 columns]"
      ]
     },
     "execution_count": 10,
     "metadata": {
      "tags": []
     },
     "output_type": "execute_result"
    }
   ],
   "source": [
    "store.describe()"
   ]
  },
  {
   "cell_type": "code",
   "execution_count": 11,
   "metadata": {
    "colab": {
     "base_uri": "https://localhost:8080/",
     "height": 297
    },
    "colab_type": "code",
    "id": "ZRcTFR6y-F-K",
    "outputId": "1ce21d27-8177-4b9b-ee6d-af796c6cfe07"
   },
   "outputs": [
    {
     "name": "stdout",
     "output_type": "stream",
     "text": [
      "<class 'pandas.core.frame.DataFrame'>\n",
      "RangeIndex: 1017209 entries, 0 to 1017208\n",
      "Data columns (total 9 columns):\n",
      " #   Column         Non-Null Count    Dtype \n",
      "---  ------         --------------    ----- \n",
      " 0   Store          1017209 non-null  int64 \n",
      " 1   DayOfWeek      1017209 non-null  int64 \n",
      " 2   Date           1017209 non-null  object\n",
      " 3   Sales          1017209 non-null  int64 \n",
      " 4   Customers      1017209 non-null  int64 \n",
      " 5   Open           1017209 non-null  int64 \n",
      " 6   Promo          1017209 non-null  int64 \n",
      " 7   StateHoliday   1017209 non-null  object\n",
      " 8   SchoolHoliday  1017209 non-null  int64 \n",
      "dtypes: int64(7), object(2)\n",
      "memory usage: 69.8+ MB\n"
     ]
    }
   ],
   "source": [
    "train.info() #查看train數據類型"
   ]
  },
  {
   "cell_type": "code",
   "execution_count": 12,
   "metadata": {
    "colab": {
     "base_uri": "https://localhost:8080/",
     "height": 280
    },
    "colab_type": "code",
    "id": "fFugxBX9-XVn",
    "outputId": "f9d0b948-2a9a-4198-9aeb-10530fc1f4dc"
   },
   "outputs": [
    {
     "name": "stdout",
     "output_type": "stream",
     "text": [
      "<class 'pandas.core.frame.DataFrame'>\n",
      "RangeIndex: 41088 entries, 0 to 41087\n",
      "Data columns (total 8 columns):\n",
      " #   Column         Non-Null Count  Dtype  \n",
      "---  ------         --------------  -----  \n",
      " 0   Id             41088 non-null  int64  \n",
      " 1   Store          41088 non-null  int64  \n",
      " 2   DayOfWeek      41088 non-null  int64  \n",
      " 3   Date           41088 non-null  object \n",
      " 4   Open           41077 non-null  float64\n",
      " 5   Promo          41088 non-null  int64  \n",
      " 6   StateHoliday   41088 non-null  object \n",
      " 7   SchoolHoliday  41088 non-null  int64  \n",
      "dtypes: float64(1), int64(5), object(2)\n",
      "memory usage: 2.5+ MB\n"
     ]
    }
   ],
   "source": [
    "test.info()#查看test數據類型"
   ]
  },
  {
   "cell_type": "code",
   "execution_count": 13,
   "metadata": {
    "colab": {
     "base_uri": "https://localhost:8080/",
     "height": 315
    },
    "colab_type": "code",
    "id": "OaQoJRpmAuxk",
    "outputId": "754ed149-9ef4-4cae-c8bb-ab6f38fb00d1"
   },
   "outputs": [
    {
     "name": "stdout",
     "output_type": "stream",
     "text": [
      "<class 'pandas.core.frame.DataFrame'>\n",
      "RangeIndex: 1115 entries, 0 to 1114\n",
      "Data columns (total 10 columns):\n",
      " #   Column                     Non-Null Count  Dtype  \n",
      "---  ------                     --------------  -----  \n",
      " 0   Store                      1115 non-null   int64  \n",
      " 1   StoreType                  1115 non-null   object \n",
      " 2   Assortment                 1115 non-null   object \n",
      " 3   CompetitionDistance        1112 non-null   float64\n",
      " 4   CompetitionOpenSinceMonth  761 non-null    float64\n",
      " 5   CompetitionOpenSinceYear   761 non-null    float64\n",
      " 6   Promo2                     1115 non-null   int64  \n",
      " 7   Promo2SinceWeek            571 non-null    float64\n",
      " 8   Promo2SinceYear            571 non-null    float64\n",
      " 9   PromoInterval              571 non-null    object \n",
      "dtypes: float64(5), int64(2), object(3)\n",
      "memory usage: 87.2+ KB\n"
     ]
    }
   ],
   "source": [
    "store.info() #查看store數據類型"
   ]
  },
  {
   "cell_type": "code",
   "execution_count": 14,
   "metadata": {
    "colab": {
     "base_uri": "https://localhost:8080/",
     "height": 192
    },
    "colab_type": "code",
    "id": "jfjsNkqADhZZ",
    "outputId": "3375efbe-7ecb-4bd4-8707-44693393c17c"
   },
   "outputs": [
    {
     "data": {
      "text/plain": [
       "Store            0\n",
       "DayOfWeek        0\n",
       "Date             0\n",
       "Sales            0\n",
       "Customers        0\n",
       "Open             0\n",
       "Promo            0\n",
       "StateHoliday     0\n",
       "SchoolHoliday    0\n",
       "dtype: int64"
      ]
     },
     "execution_count": 14,
     "metadata": {
      "tags": []
     },
     "output_type": "execute_result"
    }
   ],
   "source": [
    "#查看 train缺失值狀況\n",
    "train.isnull().sum()"
   ]
  },
  {
   "cell_type": "code",
   "execution_count": 15,
   "metadata": {
    "colab": {
     "base_uri": "https://localhost:8080/",
     "height": 175
    },
    "colab_type": "code",
    "id": "hzzOQWaoEFFO",
    "outputId": "c637f258-fc26-465f-be78-d9365d7af1ef"
   },
   "outputs": [
    {
     "data": {
      "text/plain": [
       "Id                0\n",
       "Store             0\n",
       "DayOfWeek         0\n",
       "Date              0\n",
       "Open             11\n",
       "Promo             0\n",
       "StateHoliday      0\n",
       "SchoolHoliday     0\n",
       "dtype: int64"
      ]
     },
     "execution_count": 15,
     "metadata": {
      "tags": []
     },
     "output_type": "execute_result"
    }
   ],
   "source": [
    "#查看 test缺失值狀況\n",
    "test.isnull().sum()"
   ]
  },
  {
   "cell_type": "code",
   "execution_count": 16,
   "metadata": {
    "colab": {
     "base_uri": "https://localhost:8080/",
     "height": 210
    },
    "colab_type": "code",
    "id": "SJL5gAs5FgFr",
    "outputId": "1eeb211f-bdc5-4582-fadb-1625d3a3a2ad"
   },
   "outputs": [
    {
     "data": {
      "text/plain": [
       "Store                          0\n",
       "StoreType                      0\n",
       "Assortment                     0\n",
       "CompetitionDistance            3\n",
       "CompetitionOpenSinceMonth    354\n",
       "CompetitionOpenSinceYear     354\n",
       "Promo2                         0\n",
       "Promo2SinceWeek              544\n",
       "Promo2SinceYear              544\n",
       "PromoInterval                544\n",
       "dtype: int64"
      ]
     },
     "execution_count": 16,
     "metadata": {
      "tags": []
     },
     "output_type": "execute_result"
    }
   ],
   "source": [
    "#查看 store缺失值狀況\n",
    "store.isnull ().sum()"
   ]
  },
  {
   "cell_type": "markdown",
   "metadata": {
    "colab_type": "text",
    "id": "MrARPP1GgmgU"
   },
   "source": [
    "觀察到主要是test資料其中一個維度有缺失資料\n",
    "\n",
    "而store 資料缺失6個維度資料"
   ]
  },
  {
   "cell_type": "code",
   "execution_count": 17,
   "metadata": {
    "colab": {},
    "colab_type": "code",
    "id": "QIObDSJeggjl"
   },
   "outputs": [],
   "source": [
    "#先將train與 test 資料的時間型態進行拆分\n",
    "#將train 跟 test 資料內的時間轉換成時間類型\n",
    "train.Date = pd.to_datetime(train.Date)\n",
    "test.Date = pd.to_datetime(test.Date)\n",
    "store['PromoInterval'] = store['PromoInterval'].astype(str)\n",
    "test['Date'] = pd.to_datetime(test['Date'])\n",
    "test['Year'] = test['Date'].dt.year\n",
    "test['Month'] = test['Date'].dt.month\n",
    "test['Day']=test['Date'].dt.day\n",
    "\n",
    "test[\"WeekOfYear\"]=test['Date'].dt.weekofyear\n",
    "test[\"Season\"]=test['Date'].dt.quarter\n",
    "test['SeasonOfYear']=test['Year'].replace({2013:'2013',2014:'2014',2015:'2015'})+test[\"Season\"].replace({1:'1',2:'2',3:'3',4:'4'})\n",
    "\n",
    "\n",
    "\n",
    "train['Date']=pd.to_datetime(train['Date'])\n",
    "train['Year']=train['Date'].dt.year\n",
    "train['Month']=train['Date'].dt.month\n",
    "train['Day']=train['Date'].dt.day\n",
    "train[\"WeekOfYear\"]=train['Date'].dt.weekofyear\n",
    "train[\"Season\"]=train['Date'].dt.quarter\n",
    "train['SeasonOfYear']=train['Year'].replace({2013:'2013',2014:'2014',2015:'2015'})+train[\"Season\"].replace({1:'1',2:'2',3:'3',4:'4'})"
   ]
  },
  {
   "cell_type": "markdown",
   "metadata": {
    "colab_type": "text",
    "id": "ITzLgnfxg7xv"
   },
   "source": [
    "一、因看起來是要將train 資料 與 test 資料 跟store 合併所以先處理store 資料缺失的部分"
   ]
  },
  {
   "cell_type": "code",
   "execution_count": 18,
   "metadata": {
    "colab": {
     "base_uri": "https://localhost:8080/",
     "height": 407
    },
    "colab_type": "code",
    "id": "DqTCAyggFii8",
    "outputId": "c83c3a39-7649-4955-ca12-fd7d176760db"
   },
   "outputs": [
    {
     "data": {
      "text/html": [
       "<div>\n",
       "<style scoped>\n",
       "    .dataframe tbody tr th:only-of-type {\n",
       "        vertical-align: middle;\n",
       "    }\n",
       "\n",
       "    .dataframe tbody tr th {\n",
       "        vertical-align: top;\n",
       "    }\n",
       "\n",
       "    .dataframe thead th {\n",
       "        text-align: right;\n",
       "    }\n",
       "</style>\n",
       "<table border=\"1\" class=\"dataframe\">\n",
       "  <thead>\n",
       "    <tr style=\"text-align: right;\">\n",
       "      <th></th>\n",
       "      <th>Store</th>\n",
       "      <th>StoreType</th>\n",
       "      <th>Assortment</th>\n",
       "      <th>CompetitionDistance</th>\n",
       "      <th>CompetitionOpenSinceMonth</th>\n",
       "      <th>CompetitionOpenSinceYear</th>\n",
       "      <th>Promo2</th>\n",
       "      <th>Promo2SinceWeek</th>\n",
       "      <th>Promo2SinceYear</th>\n",
       "      <th>PromoInterval</th>\n",
       "    </tr>\n",
       "  </thead>\n",
       "  <tbody>\n",
       "    <tr>\n",
       "      <th>11</th>\n",
       "      <td>12</td>\n",
       "      <td>a</td>\n",
       "      <td>c</td>\n",
       "      <td>1070.0</td>\n",
       "      <td>NaN</td>\n",
       "      <td>NaN</td>\n",
       "      <td>1</td>\n",
       "      <td>13.0</td>\n",
       "      <td>2010.0</td>\n",
       "      <td>Jan,Apr,Jul,Oct</td>\n",
       "    </tr>\n",
       "    <tr>\n",
       "      <th>12</th>\n",
       "      <td>13</td>\n",
       "      <td>d</td>\n",
       "      <td>a</td>\n",
       "      <td>310.0</td>\n",
       "      <td>NaN</td>\n",
       "      <td>NaN</td>\n",
       "      <td>1</td>\n",
       "      <td>45.0</td>\n",
       "      <td>2009.0</td>\n",
       "      <td>Feb,May,Aug,Nov</td>\n",
       "    </tr>\n",
       "    <tr>\n",
       "      <th>15</th>\n",
       "      <td>16</td>\n",
       "      <td>a</td>\n",
       "      <td>c</td>\n",
       "      <td>3270.0</td>\n",
       "      <td>NaN</td>\n",
       "      <td>NaN</td>\n",
       "      <td>0</td>\n",
       "      <td>NaN</td>\n",
       "      <td>NaN</td>\n",
       "      <td>nan</td>\n",
       "    </tr>\n",
       "    <tr>\n",
       "      <th>18</th>\n",
       "      <td>19</td>\n",
       "      <td>a</td>\n",
       "      <td>c</td>\n",
       "      <td>3240.0</td>\n",
       "      <td>NaN</td>\n",
       "      <td>NaN</td>\n",
       "      <td>1</td>\n",
       "      <td>22.0</td>\n",
       "      <td>2011.0</td>\n",
       "      <td>Mar,Jun,Sept,Dec</td>\n",
       "    </tr>\n",
       "    <tr>\n",
       "      <th>21</th>\n",
       "      <td>22</td>\n",
       "      <td>a</td>\n",
       "      <td>a</td>\n",
       "      <td>1040.0</td>\n",
       "      <td>NaN</td>\n",
       "      <td>NaN</td>\n",
       "      <td>1</td>\n",
       "      <td>22.0</td>\n",
       "      <td>2012.0</td>\n",
       "      <td>Jan,Apr,Jul,Oct</td>\n",
       "    </tr>\n",
       "    <tr>\n",
       "      <th>...</th>\n",
       "      <td>...</td>\n",
       "      <td>...</td>\n",
       "      <td>...</td>\n",
       "      <td>...</td>\n",
       "      <td>...</td>\n",
       "      <td>...</td>\n",
       "      <td>...</td>\n",
       "      <td>...</td>\n",
       "      <td>...</td>\n",
       "      <td>...</td>\n",
       "    </tr>\n",
       "    <tr>\n",
       "      <th>1095</th>\n",
       "      <td>1096</td>\n",
       "      <td>a</td>\n",
       "      <td>c</td>\n",
       "      <td>1130.0</td>\n",
       "      <td>NaN</td>\n",
       "      <td>NaN</td>\n",
       "      <td>1</td>\n",
       "      <td>10.0</td>\n",
       "      <td>2014.0</td>\n",
       "      <td>Mar,Jun,Sept,Dec</td>\n",
       "    </tr>\n",
       "    <tr>\n",
       "      <th>1099</th>\n",
       "      <td>1100</td>\n",
       "      <td>a</td>\n",
       "      <td>a</td>\n",
       "      <td>540.0</td>\n",
       "      <td>NaN</td>\n",
       "      <td>NaN</td>\n",
       "      <td>1</td>\n",
       "      <td>14.0</td>\n",
       "      <td>2011.0</td>\n",
       "      <td>Jan,Apr,Jul,Oct</td>\n",
       "    </tr>\n",
       "    <tr>\n",
       "      <th>1112</th>\n",
       "      <td>1113</td>\n",
       "      <td>a</td>\n",
       "      <td>c</td>\n",
       "      <td>9260.0</td>\n",
       "      <td>NaN</td>\n",
       "      <td>NaN</td>\n",
       "      <td>0</td>\n",
       "      <td>NaN</td>\n",
       "      <td>NaN</td>\n",
       "      <td>nan</td>\n",
       "    </tr>\n",
       "    <tr>\n",
       "      <th>1113</th>\n",
       "      <td>1114</td>\n",
       "      <td>a</td>\n",
       "      <td>c</td>\n",
       "      <td>870.0</td>\n",
       "      <td>NaN</td>\n",
       "      <td>NaN</td>\n",
       "      <td>0</td>\n",
       "      <td>NaN</td>\n",
       "      <td>NaN</td>\n",
       "      <td>nan</td>\n",
       "    </tr>\n",
       "    <tr>\n",
       "      <th>1114</th>\n",
       "      <td>1115</td>\n",
       "      <td>d</td>\n",
       "      <td>c</td>\n",
       "      <td>5350.0</td>\n",
       "      <td>NaN</td>\n",
       "      <td>NaN</td>\n",
       "      <td>1</td>\n",
       "      <td>22.0</td>\n",
       "      <td>2012.0</td>\n",
       "      <td>Mar,Jun,Sept,Dec</td>\n",
       "    </tr>\n",
       "  </tbody>\n",
       "</table>\n",
       "<p>354 rows × 10 columns</p>\n",
       "</div>"
      ],
      "text/plain": [
       "      Store StoreType  ... Promo2SinceYear     PromoInterval\n",
       "11       12         a  ...          2010.0   Jan,Apr,Jul,Oct\n",
       "12       13         d  ...          2009.0   Feb,May,Aug,Nov\n",
       "15       16         a  ...             NaN               nan\n",
       "18       19         a  ...          2011.0  Mar,Jun,Sept,Dec\n",
       "21       22         a  ...          2012.0   Jan,Apr,Jul,Oct\n",
       "...     ...       ...  ...             ...               ...\n",
       "1095   1096         a  ...          2014.0  Mar,Jun,Sept,Dec\n",
       "1099   1100         a  ...          2011.0   Jan,Apr,Jul,Oct\n",
       "1112   1113         a  ...             NaN               nan\n",
       "1113   1114         a  ...             NaN               nan\n",
       "1114   1115         d  ...          2012.0  Mar,Jun,Sept,Dec\n",
       "\n",
       "[354 rows x 10 columns]"
      ]
     },
     "execution_count": 18,
     "metadata": {
      "tags": []
     },
     "output_type": "execute_result"
    }
   ],
   "source": [
    "\n",
    "#查看store 缺失值狀況\n",
    "store[store['CompetitionOpenSinceMonth'].isnull()]\n",
    "#觀察到有將近354家店家不知道競爭對手開始的時間，推斷可能為這些店家開設的時間比Rossman 店面來的早所以無法推斷，又或者真的是資料缺失\n",
    "#此外也500多間的店面沒有折扣促銷的情況，代表可能整間公司比較屬於單打獨鬥類型的公司，並沒有統一化的策略，又或者真的是資料缺失"
   ]
  },
  {
   "cell_type": "code",
   "execution_count": 19,
   "metadata": {
    "colab": {
     "base_uri": "https://localhost:8080/",
     "height": 138
    },
    "colab_type": "code",
    "id": "VBv4R4QrGfQ1",
    "outputId": "830f893a-280a-4735-c0c0-d09461216ec3"
   },
   "outputs": [
    {
     "data": {
      "text/html": [
       "<div>\n",
       "<style scoped>\n",
       "    .dataframe tbody tr th:only-of-type {\n",
       "        vertical-align: middle;\n",
       "    }\n",
       "\n",
       "    .dataframe tbody tr th {\n",
       "        vertical-align: top;\n",
       "    }\n",
       "\n",
       "    .dataframe thead th {\n",
       "        text-align: right;\n",
       "    }\n",
       "</style>\n",
       "<table border=\"1\" class=\"dataframe\">\n",
       "  <thead>\n",
       "    <tr style=\"text-align: right;\">\n",
       "      <th></th>\n",
       "      <th>Store</th>\n",
       "      <th>StoreType</th>\n",
       "      <th>Assortment</th>\n",
       "      <th>CompetitionDistance</th>\n",
       "      <th>CompetitionOpenSinceMonth</th>\n",
       "      <th>CompetitionOpenSinceYear</th>\n",
       "      <th>Promo2</th>\n",
       "      <th>Promo2SinceWeek</th>\n",
       "      <th>Promo2SinceYear</th>\n",
       "      <th>PromoInterval</th>\n",
       "    </tr>\n",
       "  </thead>\n",
       "  <tbody>\n",
       "    <tr>\n",
       "      <th>290</th>\n",
       "      <td>291</td>\n",
       "      <td>d</td>\n",
       "      <td>a</td>\n",
       "      <td>NaN</td>\n",
       "      <td>NaN</td>\n",
       "      <td>NaN</td>\n",
       "      <td>0</td>\n",
       "      <td>NaN</td>\n",
       "      <td>NaN</td>\n",
       "      <td>nan</td>\n",
       "    </tr>\n",
       "    <tr>\n",
       "      <th>621</th>\n",
       "      <td>622</td>\n",
       "      <td>a</td>\n",
       "      <td>c</td>\n",
       "      <td>NaN</td>\n",
       "      <td>NaN</td>\n",
       "      <td>NaN</td>\n",
       "      <td>0</td>\n",
       "      <td>NaN</td>\n",
       "      <td>NaN</td>\n",
       "      <td>nan</td>\n",
       "    </tr>\n",
       "    <tr>\n",
       "      <th>878</th>\n",
       "      <td>879</td>\n",
       "      <td>d</td>\n",
       "      <td>a</td>\n",
       "      <td>NaN</td>\n",
       "      <td>NaN</td>\n",
       "      <td>NaN</td>\n",
       "      <td>1</td>\n",
       "      <td>5.0</td>\n",
       "      <td>2013.0</td>\n",
       "      <td>Feb,May,Aug,Nov</td>\n",
       "    </tr>\n",
       "  </tbody>\n",
       "</table>\n",
       "</div>"
      ],
      "text/plain": [
       "     Store StoreType  ... Promo2SinceYear    PromoInterval\n",
       "290    291         d  ...             NaN              nan\n",
       "621    622         a  ...             NaN              nan\n",
       "878    879         d  ...          2013.0  Feb,May,Aug,Nov\n",
       "\n",
       "[3 rows x 10 columns]"
      ]
     },
     "execution_count": 19,
     "metadata": {
      "tags": []
     },
     "output_type": "execute_result"
    }
   ],
   "source": [
    "store[store['CompetitionDistance'].isnull()]\n",
    "#有三間店面附近競爭者的距離是缺失的，有可能這地方只有rossman一間店面，並沒有其他類型的店面，"
   ]
  },
  {
   "cell_type": "code",
   "execution_count": 20,
   "metadata": {
    "colab": {},
    "colab_type": "code",
    "id": "wHP66ViWPNnL"
   },
   "outputs": [],
   "source": [
    "store[\"CompetitionDistance\"].fillna(store[\"CompetitionDistance\"].mean(),inplace=True)\n",
    "store[\"CompetitionOpenSinceMonth\"].fillna(store[\"CompetitionOpenSinceMonth\"].mean(),inplace=True)\n",
    "store[\"CompetitionOpenSinceYear\"].fillna(store[\"CompetitionOpenSinceYear\"].mean(),inplace=True)\n",
    "store[\"Promo2SinceWeek\"].fillna(0,inplace=True)\n",
    "store[\"Promo2SinceYear\"].fillna(0,inplace=True)\n",
    "store[\"PromoInterval\"].fillna(0,inplace=True)\n",
    "\n"
   ]
  },
  {
   "cell_type": "code",
   "execution_count": 21,
   "metadata": {
    "colab": {
     "base_uri": "https://localhost:8080/",
     "height": 315
    },
    "colab_type": "code",
    "id": "1p2pVZdrUAmt",
    "outputId": "bfc94d74-ca34-44ce-eb13-c69cc4386051"
   },
   "outputs": [
    {
     "name": "stdout",
     "output_type": "stream",
     "text": [
      "<class 'pandas.core.frame.DataFrame'>\n",
      "RangeIndex: 1115 entries, 0 to 1114\n",
      "Data columns (total 10 columns):\n",
      " #   Column                     Non-Null Count  Dtype  \n",
      "---  ------                     --------------  -----  \n",
      " 0   Store                      1115 non-null   int64  \n",
      " 1   StoreType                  1115 non-null   object \n",
      " 2   Assortment                 1115 non-null   object \n",
      " 3   CompetitionDistance        1115 non-null   float64\n",
      " 4   CompetitionOpenSinceMonth  1115 non-null   float64\n",
      " 5   CompetitionOpenSinceYear   1115 non-null   float64\n",
      " 6   Promo2                     1115 non-null   int64  \n",
      " 7   Promo2SinceWeek            1115 non-null   float64\n",
      " 8   Promo2SinceYear            1115 non-null   float64\n",
      " 9   PromoInterval              1115 non-null   object \n",
      "dtypes: float64(5), int64(2), object(3)\n",
      "memory usage: 87.2+ KB\n"
     ]
    }
   ],
   "source": [
    "store.info()"
   ]
  },
  {
   "cell_type": "markdown",
   "metadata": {
    "colab_type": "text",
    "id": "-VkqvszYhUut"
   },
   "source": [
    "整理後Store 資料已經沒有缺失值了"
   ]
  },
  {
   "cell_type": "markdown",
   "metadata": {
    "colab_type": "text",
    "id": "p9oEiFdPiClI"
   },
   "source": [
    "**二、開始整理train資料**"
   ]
  },
  {
   "cell_type": "code",
   "execution_count": 22,
   "metadata": {
    "colab": {},
    "colab_type": "code",
    "id": "m2fBBbywiKLS"
   },
   "outputs": [],
   "source": [
    "#想了解每個人平均消費的情況\n",
    "train[\"avg_sales\"]=train[\"Sales\"]/train[\"Customers\"]\n"
   ]
  },
  {
   "cell_type": "code",
   "execution_count": 23,
   "metadata": {
    "colab": {
     "base_uri": "https://localhost:8080/",
     "height": 242
    },
    "colab_type": "code",
    "id": "XGO1noJOicFK",
    "outputId": "634cbdd9-a765-4033-9235-dd13f636c780"
   },
   "outputs": [
    {
     "data": {
      "image/png": "[encoded data removed]",
      "text/plain": [
       "<Figure size 648x216 with 1 Axes>"
      ]
     },
     "metadata": {
      "needs_background": "light",
      "tags": []
     },
     "output_type": "display_data"
    }
   ],
   "source": [
    "import matplotlib.dates as mdates\n",
    "\n",
    "train_sales = train[train[\"Sales\"]>0]\n",
    "\n",
    "gsales=sns.relplot(x=\"Date\",y=\"Sales\",kind=\"line\",height=3,aspect=3,data=train_sales.sample(frac=0.0005,random_state=1))\n",
    "gsales.ax.xaxis.set_major_locator(mdates.MonthLocator(interval=2))\n",
    "gsales.fig.autofmt_xdate()"
   ]
  },
  {
   "cell_type": "code",
   "execution_count": 24,
   "metadata": {
    "colab": {},
    "colab_type": "code",
    "id": "L9X98aRcixgt"
   },
   "outputs": [],
   "source": [
    "#再來先合併train與store的資料，並且篩選出銷售大於0的\n",
    "train_df = pd.merge(train,store,on=\"Store\")\n",
    "train_df = train_df[(train_df['Open']==1)&(train_df['Sales']>0)]"
   ]
  },
  {
   "cell_type": "code",
   "execution_count": 25,
   "metadata": {
    "colab": {
     "base_uri": "https://localhost:8080/",
     "height": 277
    },
    "colab_type": "code",
    "id": "XFrYA1WIjImr",
    "outputId": "d7a1c7df-bd40-419c-99e4-6a069a3a76cf"
   },
   "outputs": [
    {
     "data": {
      "text/html": [
       "<div>\n",
       "<style scoped>\n",
       "    .dataframe tbody tr th:only-of-type {\n",
       "        vertical-align: middle;\n",
       "    }\n",
       "\n",
       "    .dataframe tbody tr th {\n",
       "        vertical-align: top;\n",
       "    }\n",
       "\n",
       "    .dataframe thead tr th {\n",
       "        text-align: left;\n",
       "    }\n",
       "\n",
       "    .dataframe thead tr:last-of-type th {\n",
       "        text-align: right;\n",
       "    }\n",
       "</style>\n",
       "<table border=\"1\" class=\"dataframe\">\n",
       "  <thead>\n",
       "    <tr>\n",
       "      <th></th>\n",
       "      <th colspan=\"8\" halign=\"left\">Store</th>\n",
       "      <th colspan=\"8\" halign=\"left\">DayOfWeek</th>\n",
       "      <th colspan=\"8\" halign=\"left\">Sales</th>\n",
       "      <th colspan=\"8\" halign=\"left\">Customers</th>\n",
       "      <th colspan=\"8\" halign=\"left\">Open</th>\n",
       "      <th>...</th>\n",
       "      <th colspan=\"8\" halign=\"left\">CompetitionOpenSinceMonth</th>\n",
       "      <th colspan=\"8\" halign=\"left\">CompetitionOpenSinceYear</th>\n",
       "      <th colspan=\"8\" halign=\"left\">Promo2</th>\n",
       "      <th colspan=\"8\" halign=\"left\">Promo2SinceWeek</th>\n",
       "      <th colspan=\"8\" halign=\"left\">Promo2SinceYear</th>\n",
       "    </tr>\n",
       "    <tr>\n",
       "      <th></th>\n",
       "      <th>count</th>\n",
       "      <th>mean</th>\n",
       "      <th>std</th>\n",
       "      <th>min</th>\n",
       "      <th>25%</th>\n",
       "      <th>50%</th>\n",
       "      <th>75%</th>\n",
       "      <th>max</th>\n",
       "      <th>count</th>\n",
       "      <th>mean</th>\n",
       "      <th>std</th>\n",
       "      <th>min</th>\n",
       "      <th>25%</th>\n",
       "      <th>50%</th>\n",
       "      <th>75%</th>\n",
       "      <th>max</th>\n",
       "      <th>count</th>\n",
       "      <th>mean</th>\n",
       "      <th>std</th>\n",
       "      <th>min</th>\n",
       "      <th>25%</th>\n",
       "      <th>50%</th>\n",
       "      <th>75%</th>\n",
       "      <th>max</th>\n",
       "      <th>count</th>\n",
       "      <th>mean</th>\n",
       "      <th>std</th>\n",
       "      <th>min</th>\n",
       "      <th>25%</th>\n",
       "      <th>50%</th>\n",
       "      <th>75%</th>\n",
       "      <th>max</th>\n",
       "      <th>count</th>\n",
       "      <th>mean</th>\n",
       "      <th>std</th>\n",
       "      <th>min</th>\n",
       "      <th>25%</th>\n",
       "      <th>50%</th>\n",
       "      <th>75%</th>\n",
       "      <th>max</th>\n",
       "      <th>...</th>\n",
       "      <th>count</th>\n",
       "      <th>mean</th>\n",
       "      <th>std</th>\n",
       "      <th>min</th>\n",
       "      <th>25%</th>\n",
       "      <th>50%</th>\n",
       "      <th>75%</th>\n",
       "      <th>max</th>\n",
       "      <th>count</th>\n",
       "      <th>mean</th>\n",
       "      <th>std</th>\n",
       "      <th>min</th>\n",
       "      <th>25%</th>\n",
       "      <th>50%</th>\n",
       "      <th>75%</th>\n",
       "      <th>max</th>\n",
       "      <th>count</th>\n",
       "      <th>mean</th>\n",
       "      <th>std</th>\n",
       "      <th>min</th>\n",
       "      <th>25%</th>\n",
       "      <th>50%</th>\n",
       "      <th>75%</th>\n",
       "      <th>max</th>\n",
       "      <th>count</th>\n",
       "      <th>mean</th>\n",
       "      <th>std</th>\n",
       "      <th>min</th>\n",
       "      <th>25%</th>\n",
       "      <th>50%</th>\n",
       "      <th>75%</th>\n",
       "      <th>max</th>\n",
       "      <th>count</th>\n",
       "      <th>mean</th>\n",
       "      <th>std</th>\n",
       "      <th>min</th>\n",
       "      <th>25%</th>\n",
       "      <th>50%</th>\n",
       "      <th>75%</th>\n",
       "      <th>max</th>\n",
       "    </tr>\n",
       "    <tr>\n",
       "      <th>StoreType</th>\n",
       "      <th></th>\n",
       "      <th></th>\n",
       "      <th></th>\n",
       "      <th></th>\n",
       "      <th></th>\n",
       "      <th></th>\n",
       "      <th></th>\n",
       "      <th></th>\n",
       "      <th></th>\n",
       "      <th></th>\n",
       "      <th></th>\n",
       "      <th></th>\n",
       "      <th></th>\n",
       "      <th></th>\n",
       "      <th></th>\n",
       "      <th></th>\n",
       "      <th></th>\n",
       "      <th></th>\n",
       "      <th></th>\n",
       "      <th></th>\n",
       "      <th></th>\n",
       "      <th></th>\n",
       "      <th></th>\n",
       "      <th></th>\n",
       "      <th></th>\n",
       "      <th></th>\n",
       "      <th></th>\n",
       "      <th></th>\n",
       "      <th></th>\n",
       "      <th></th>\n",
       "      <th></th>\n",
       "      <th></th>\n",
       "      <th></th>\n",
       "      <th></th>\n",
       "      <th></th>\n",
       "      <th></th>\n",
       "      <th></th>\n",
       "      <th></th>\n",
       "      <th></th>\n",
       "      <th></th>\n",
       "      <th></th>\n",
       "      <th></th>\n",
       "      <th></th>\n",
       "      <th></th>\n",
       "      <th></th>\n",
       "      <th></th>\n",
       "      <th></th>\n",
       "      <th></th>\n",
       "      <th></th>\n",
       "      <th></th>\n",
       "      <th></th>\n",
       "      <th></th>\n",
       "      <th></th>\n",
       "      <th></th>\n",
       "      <th></th>\n",
       "      <th></th>\n",
       "      <th></th>\n",
       "      <th></th>\n",
       "      <th></th>\n",
       "      <th></th>\n",
       "      <th></th>\n",
       "      <th></th>\n",
       "      <th></th>\n",
       "      <th></th>\n",
       "      <th></th>\n",
       "      <th></th>\n",
       "      <th></th>\n",
       "      <th></th>\n",
       "      <th></th>\n",
       "      <th></th>\n",
       "      <th></th>\n",
       "      <th></th>\n",
       "      <th></th>\n",
       "      <th></th>\n",
       "      <th></th>\n",
       "      <th></th>\n",
       "      <th></th>\n",
       "      <th></th>\n",
       "      <th></th>\n",
       "      <th></th>\n",
       "      <th></th>\n",
       "    </tr>\n",
       "  </thead>\n",
       "  <tbody>\n",
       "    <tr>\n",
       "      <th>a</th>\n",
       "      <td>457042.0</td>\n",
       "      <td>560.087410</td>\n",
       "      <td>325.810963</td>\n",
       "      <td>2.0</td>\n",
       "      <td>276.0</td>\n",
       "      <td>557.0</td>\n",
       "      <td>848.0</td>\n",
       "      <td>1114.0</td>\n",
       "      <td>457042.0</td>\n",
       "      <td>3.513502</td>\n",
       "      <td>1.718722</td>\n",
       "      <td>1.0</td>\n",
       "      <td>2.0</td>\n",
       "      <td>3.0</td>\n",
       "      <td>5.0</td>\n",
       "      <td>7.0</td>\n",
       "      <td>457042.0</td>\n",
       "      <td>6925.697986</td>\n",
       "      <td>3277.351589</td>\n",
       "      <td>46.0</td>\n",
       "      <td>4695.25</td>\n",
       "      <td>6285.0</td>\n",
       "      <td>8406.00</td>\n",
       "      <td>41551.0</td>\n",
       "      <td>457042.0</td>\n",
       "      <td>795.422370</td>\n",
       "      <td>387.516543</td>\n",
       "      <td>8.0</td>\n",
       "      <td>547.0</td>\n",
       "      <td>720.0</td>\n",
       "      <td>949.0</td>\n",
       "      <td>7388.0</td>\n",
       "      <td>457042.0</td>\n",
       "      <td>1.0</td>\n",
       "      <td>0.0</td>\n",
       "      <td>1.0</td>\n",
       "      <td>1.0</td>\n",
       "      <td>1.0</td>\n",
       "      <td>1.0</td>\n",
       "      <td>1.0</td>\n",
       "      <td>...</td>\n",
       "      <td>457042.0</td>\n",
       "      <td>7.192515</td>\n",
       "      <td>2.727481</td>\n",
       "      <td>1.0</td>\n",
       "      <td>6.0</td>\n",
       "      <td>7.224704</td>\n",
       "      <td>9.000000</td>\n",
       "      <td>12.0</td>\n",
       "      <td>457042.0</td>\n",
       "      <td>2008.628296</td>\n",
       "      <td>5.559485</td>\n",
       "      <td>1900.0</td>\n",
       "      <td>2008.0</td>\n",
       "      <td>2008.668857</td>\n",
       "      <td>2011.000000</td>\n",
       "      <td>2015.0</td>\n",
       "      <td>457042.0</td>\n",
       "      <td>0.466014</td>\n",
       "      <td>0.498844</td>\n",
       "      <td>0.0</td>\n",
       "      <td>0.0</td>\n",
       "      <td>0.0</td>\n",
       "      <td>1.0</td>\n",
       "      <td>1.0</td>\n",
       "      <td>457042.0</td>\n",
       "      <td>11.012905</td>\n",
       "      <td>15.037208</td>\n",
       "      <td>0.0</td>\n",
       "      <td>0.0</td>\n",
       "      <td>0.0</td>\n",
       "      <td>18.0</td>\n",
       "      <td>48.0</td>\n",
       "      <td>457042.0</td>\n",
       "      <td>937.555750</td>\n",
       "      <td>1003.606049</td>\n",
       "      <td>0.0</td>\n",
       "      <td>0.0</td>\n",
       "      <td>0.0</td>\n",
       "      <td>2012.0</td>\n",
       "      <td>2015.0</td>\n",
       "    </tr>\n",
       "    <tr>\n",
       "      <th>b</th>\n",
       "      <td>15560.0</td>\n",
       "      <td>555.930077</td>\n",
       "      <td>286.817822</td>\n",
       "      <td>85.0</td>\n",
       "      <td>335.0</td>\n",
       "      <td>512.0</td>\n",
       "      <td>733.0</td>\n",
       "      <td>1097.0</td>\n",
       "      <td>15560.0</td>\n",
       "      <td>3.998586</td>\n",
       "      <td>1.997910</td>\n",
       "      <td>1.0</td>\n",
       "      <td>2.0</td>\n",
       "      <td>4.0</td>\n",
       "      <td>6.0</td>\n",
       "      <td>7.0</td>\n",
       "      <td>15560.0</td>\n",
       "      <td>10233.380141</td>\n",
       "      <td>5155.729868</td>\n",
       "      <td>1252.0</td>\n",
       "      <td>6345.75</td>\n",
       "      <td>9130.0</td>\n",
       "      <td>13184.25</td>\n",
       "      <td>38722.0</td>\n",
       "      <td>15560.0</td>\n",
       "      <td>2022.211825</td>\n",
       "      <td>910.687095</td>\n",
       "      <td>219.0</td>\n",
       "      <td>1255.0</td>\n",
       "      <td>1839.5</td>\n",
       "      <td>2751.0</td>\n",
       "      <td>5494.0</td>\n",
       "      <td>15560.0</td>\n",
       "      <td>1.0</td>\n",
       "      <td>0.0</td>\n",
       "      <td>1.0</td>\n",
       "      <td>1.0</td>\n",
       "      <td>1.0</td>\n",
       "      <td>1.0</td>\n",
       "      <td>1.0</td>\n",
       "      <td>...</td>\n",
       "      <td>15560.0</td>\n",
       "      <td>6.968144</td>\n",
       "      <td>1.970447</td>\n",
       "      <td>3.0</td>\n",
       "      <td>6.0</td>\n",
       "      <td>7.224704</td>\n",
       "      <td>7.224704</td>\n",
       "      <td>10.0</td>\n",
       "      <td>15560.0</td>\n",
       "      <td>2008.216108</td>\n",
       "      <td>3.530764</td>\n",
       "      <td>1999.0</td>\n",
       "      <td>2008.0</td>\n",
       "      <td>2008.668857</td>\n",
       "      <td>2008.668857</td>\n",
       "      <td>2014.0</td>\n",
       "      <td>15560.0</td>\n",
       "      <td>0.288625</td>\n",
       "      <td>0.453138</td>\n",
       "      <td>0.0</td>\n",
       "      <td>0.0</td>\n",
       "      <td>0.0</td>\n",
       "      <td>1.0</td>\n",
       "      <td>1.0</td>\n",
       "      <td>15560.0</td>\n",
       "      <td>6.457776</td>\n",
       "      <td>13.223929</td>\n",
       "      <td>0.0</td>\n",
       "      <td>0.0</td>\n",
       "      <td>0.0</td>\n",
       "      <td>5.0</td>\n",
       "      <td>48.0</td>\n",
       "      <td>15560.0</td>\n",
       "      <td>580.940938</td>\n",
       "      <td>912.070935</td>\n",
       "      <td>0.0</td>\n",
       "      <td>0.0</td>\n",
       "      <td>0.0</td>\n",
       "      <td>2012.0</td>\n",
       "      <td>2013.0</td>\n",
       "    </tr>\n",
       "    <tr>\n",
       "      <th>c</th>\n",
       "      <td>112968.0</td>\n",
       "      <td>608.222337</td>\n",
       "      <td>325.611777</td>\n",
       "      <td>1.0</td>\n",
       "      <td>362.0</td>\n",
       "      <td>613.0</td>\n",
       "      <td>897.0</td>\n",
       "      <td>1112.0</td>\n",
       "      <td>112968.0</td>\n",
       "      <td>3.506400</td>\n",
       "      <td>1.712009</td>\n",
       "      <td>1.0</td>\n",
       "      <td>2.0</td>\n",
       "      <td>3.0</td>\n",
       "      <td>5.0</td>\n",
       "      <td>6.0</td>\n",
       "      <td>112968.0</td>\n",
       "      <td>6933.126425</td>\n",
       "      <td>2896.958579</td>\n",
       "      <td>133.0</td>\n",
       "      <td>4916.00</td>\n",
       "      <td>6408.0</td>\n",
       "      <td>8349.25</td>\n",
       "      <td>31448.0</td>\n",
       "      <td>112968.0</td>\n",
       "      <td>815.538073</td>\n",
       "      <td>329.670020</td>\n",
       "      <td>18.0</td>\n",
       "      <td>583.0</td>\n",
       "      <td>756.0</td>\n",
       "      <td>981.0</td>\n",
       "      <td>3096.0</td>\n",
       "      <td>112968.0</td>\n",
       "      <td>1.0</td>\n",
       "      <td>0.0</td>\n",
       "      <td>1.0</td>\n",
       "      <td>1.0</td>\n",
       "      <td>1.0</td>\n",
       "      <td>1.0</td>\n",
       "      <td>1.0</td>\n",
       "      <td>...</td>\n",
       "      <td>112968.0</td>\n",
       "      <td>7.095365</td>\n",
       "      <td>2.717075</td>\n",
       "      <td>1.0</td>\n",
       "      <td>5.0</td>\n",
       "      <td>7.224704</td>\n",
       "      <td>9.000000</td>\n",
       "      <td>12.0</td>\n",
       "      <td>112968.0</td>\n",
       "      <td>2008.555378</td>\n",
       "      <td>3.615392</td>\n",
       "      <td>1994.0</td>\n",
       "      <td>2007.0</td>\n",
       "      <td>2008.668857</td>\n",
       "      <td>2011.000000</td>\n",
       "      <td>2015.0</td>\n",
       "      <td>112968.0</td>\n",
       "      <td>0.497575</td>\n",
       "      <td>0.499996</td>\n",
       "      <td>0.0</td>\n",
       "      <td>0.0</td>\n",
       "      <td>0.0</td>\n",
       "      <td>1.0</td>\n",
       "      <td>1.0</td>\n",
       "      <td>112968.0</td>\n",
       "      <td>10.666348</td>\n",
       "      <td>14.950177</td>\n",
       "      <td>0.0</td>\n",
       "      <td>0.0</td>\n",
       "      <td>0.0</td>\n",
       "      <td>14.0</td>\n",
       "      <td>50.0</td>\n",
       "      <td>112968.0</td>\n",
       "      <td>1000.889526</td>\n",
       "      <td>1005.761586</td>\n",
       "      <td>0.0</td>\n",
       "      <td>0.0</td>\n",
       "      <td>0.0</td>\n",
       "      <td>2011.0</td>\n",
       "      <td>2014.0</td>\n",
       "    </tr>\n",
       "    <tr>\n",
       "      <th>d</th>\n",
       "      <td>258768.0</td>\n",
       "      <td>533.887432</td>\n",
       "      <td>311.987681</td>\n",
       "      <td>13.0</td>\n",
       "      <td>250.0</td>\n",
       "      <td>529.0</td>\n",
       "      <td>792.0</td>\n",
       "      <td>1115.0</td>\n",
       "      <td>258768.0</td>\n",
       "      <td>3.509777</td>\n",
       "      <td>1.715729</td>\n",
       "      <td>1.0</td>\n",
       "      <td>2.0</td>\n",
       "      <td>3.0</td>\n",
       "      <td>5.0</td>\n",
       "      <td>7.0</td>\n",
       "      <td>258768.0</td>\n",
       "      <td>6822.300064</td>\n",
       "      <td>2556.401455</td>\n",
       "      <td>538.0</td>\n",
       "      <td>5050.00</td>\n",
       "      <td>6395.0</td>\n",
       "      <td>8123.25</td>\n",
       "      <td>38037.0</td>\n",
       "      <td>258768.0</td>\n",
       "      <td>606.353935</td>\n",
       "      <td>199.247092</td>\n",
       "      <td>64.0</td>\n",
       "      <td>464.0</td>\n",
       "      <td>577.0</td>\n",
       "      <td>716.0</td>\n",
       "      <td>2239.0</td>\n",
       "      <td>258768.0</td>\n",
       "      <td>1.0</td>\n",
       "      <td>0.0</td>\n",
       "      <td>1.0</td>\n",
       "      <td>1.0</td>\n",
       "      <td>1.0</td>\n",
       "      <td>1.0</td>\n",
       "      <td>1.0</td>\n",
       "      <td>...</td>\n",
       "      <td>258768.0</td>\n",
       "      <td>7.353756</td>\n",
       "      <td>2.510418</td>\n",
       "      <td>1.0</td>\n",
       "      <td>7.0</td>\n",
       "      <td>7.224704</td>\n",
       "      <td>9.000000</td>\n",
       "      <td>12.0</td>\n",
       "      <td>258768.0</td>\n",
       "      <td>2008.881554</td>\n",
       "      <td>4.289788</td>\n",
       "      <td>1961.0</td>\n",
       "      <td>2008.0</td>\n",
       "      <td>2008.668857</td>\n",
       "      <td>2012.000000</td>\n",
       "      <td>2015.0</td>\n",
       "      <td>258768.0</td>\n",
       "      <td>0.569456</td>\n",
       "      <td>0.495153</td>\n",
       "      <td>0.0</td>\n",
       "      <td>0.0</td>\n",
       "      <td>1.0</td>\n",
       "      <td>1.0</td>\n",
       "      <td>1.0</td>\n",
       "      <td>258768.0</td>\n",
       "      <td>13.341213</td>\n",
       "      <td>15.860390</td>\n",
       "      <td>0.0</td>\n",
       "      <td>0.0</td>\n",
       "      <td>5.0</td>\n",
       "      <td>28.0</td>\n",
       "      <td>49.0</td>\n",
       "      <td>258768.0</td>\n",
       "      <td>1145.546053</td>\n",
       "      <td>996.075785</td>\n",
       "      <td>0.0</td>\n",
       "      <td>0.0</td>\n",
       "      <td>2009.0</td>\n",
       "      <td>2012.0</td>\n",
       "      <td>2015.0</td>\n",
       "    </tr>\n",
       "  </tbody>\n",
       "</table>\n",
       "<p>4 rows × 152 columns</p>\n",
       "</div>"
      ],
      "text/plain": [
       "              Store                                ... Promo2SinceYear                        \n",
       "              count        mean         std   min  ...             25%     50%     75%     max\n",
       "StoreType                                          ...                                        \n",
       "a          457042.0  560.087410  325.810963   2.0  ...             0.0     0.0  2012.0  2015.0\n",
       "b           15560.0  555.930077  286.817822  85.0  ...             0.0     0.0  2012.0  2013.0\n",
       "c          112968.0  608.222337  325.611777   1.0  ...             0.0     0.0  2011.0  2014.0\n",
       "d          258768.0  533.887432  311.987681  13.0  ...             0.0  2009.0  2012.0  2015.0\n",
       "\n",
       "[4 rows x 152 columns]"
      ]
     },
     "execution_count": 25,
     "metadata": {
      "tags": []
     },
     "output_type": "execute_result"
    }
   ],
   "source": [
    "store_type_merge = train_df.groupby(\"StoreType\")\n",
    "store_type_describe = store_type_merge.describe()\n",
    "store_type_describe"
   ]
  },
  {
   "cell_type": "code",
   "execution_count": 26,
   "metadata": {
    "colab": {
     "base_uri": "https://localhost:8080/",
     "height": 262
    },
    "colab_type": "code",
    "id": "AJOzZkwpjdqv",
    "outputId": "5b138ec0-7c0b-43cc-b859-618176aeaf8e"
   },
   "outputs": [
    {
     "data": {
      "image/png": "[encoded data removed]",
      "text/plain": [
       "<Figure size 864x288 with 1 Axes>"
      ]
     },
     "metadata": {
      "needs_background": "light",
      "tags": []
     },
     "output_type": "display_data"
    }
   ],
   "source": [
    "figtype, axestype = plt.subplots(1, 1, sharey=False, figsize=(12, 4))\n",
    "sns.lineplot(x=\"Month\", y=\"avg_sales\",hue=\"StoreType\",data=train_df,ax=axestype)\n",
    "figtype.autofmt_xdate()"
   ]
  },
  {
   "cell_type": "markdown",
   "metadata": {
    "colab_type": "text",
    "id": "GL3HCO-qloJ5"
   },
   "source": [
    "觀察到D類型店家平均每人消費金額最高\n",
    "\n",
    "---\n",
    "\n"
   ]
  },
  {
   "cell_type": "code",
   "execution_count": 27,
   "metadata": {
    "colab": {},
    "colab_type": "code",
    "id": "rehCHXh3koT_"
   },
   "outputs": [],
   "source": [
    "#將'PromoInterval'特徵轉化為'IsPromoMonth'特徵,表示某天某店舖是否處於促銷月，1表示是，0表示否\n",
    "month2str = {1:'Jan', 2:'Feb', 3:'Mar', 4:'Apr', 5:'May', 6:'Jun',7:'Jul', 8:'Aug', 9:'Sept', 10:'Oct', 11:'Nov', 12:'Dec'}\n",
    "train_df['monthStr'] = train_df.Month.map(month2str)\n",
    "train_df.loc[train_df.PromoInterval == 0, 'PromoInterval'] = ''\n",
    "train_df['IsPromoMonth'] = 0\n",
    "for interval in train_df.PromoInterval.unique():\n",
    "    if interval != '':\n",
    "        for month in interval.split(','):\n",
    "            train_df.loc[(train_df.monthStr == month) & (train_df.PromoInterval == interval), 'IsPromoMonth'] = 1 \n",
    "# 新增'CompetitionOpen'和'PromoOpen'特征，计算某天某店铺的竞争对手已营业时间和店铺已促销时间，用月为单位表示\n",
    "train_df['ct_open'] = 12 * (train_df.Year - train_df.CompetitionOpenSinceYear) +(train_df.Month - train_df.CompetitionOpenSinceMonth)\n",
    "train_df['ct_open'] = train_df.ct_open.apply(lambda x: x if x > 0 else 0)        \n",
    "train_df['PromoOpen'] = 12 * (train_df.Year - train_df.Promo2SinceYear) + (train_df.WeekOfYear - train_df.Promo2SinceWeek) / 4.0\n",
    "train_df['PromoOpen'] = train_df.PromoOpen.apply(lambda x: x if x > 0 else 0)"
   ]
  },
  {
   "cell_type": "code",
   "execution_count": 28,
   "metadata": {
    "colab": {},
    "colab_type": "code",
    "id": "OmXg_WENlVa3"
   },
   "outputs": [],
   "source": [
    "mapping = {'0':0, 'a':1, 'b':2, 'c':3, 'd':4,0: 0}\n",
    "train_df.StoreType = train_df.StoreType.map(mapping)\n",
    "train_df.Assortment = train_df.Assortment.map(mapping)\n",
    "train_df.StateHoliday = train_df.StateHoliday.map(mapping)"
   ]
  },
  {
   "cell_type": "code",
   "execution_count": 29,
   "metadata": {
    "colab": {
     "base_uri": "https://localhost:8080/",
     "height": 357
    },
    "colab_type": "code",
    "id": "vb79_uh7k-ny",
    "outputId": "f667b8d1-4366-4d8b-a15d-3d2da79e9c46"
   },
   "outputs": [
    {
     "data": {
      "image/png": "[encoded data removed]",
      "text/plain": [
       "<Figure size 864x432 with 2 Axes>"
      ]
     },
     "metadata": {
      "needs_background": "light",
      "tags": []
     },
     "output_type": "display_data"
    }
   ],
   "source": [
    "figHoli,axesHoli = plt.subplots(1,2,sharex=False,sharey=True,figsize=(12,6))\n",
    "\n",
    "sns.boxplot(x=\"StateHoliday\",y=\"Sales\",\n",
    "            showmeans=True,\n",
    "            data=train_df,\n",
    "            ax=axesHoli[0])\n",
    "sns.boxplot(x=\"SchoolHoliday\",y=\"Sales\",\n",
    "            showmeans=True,\n",
    "            data=train_df,\n",
    "            ax=axesHoli[1])\n",
    "\n",
    "figHoli.autofmt_xdate()"
   ]
  },
  {
   "cell_type": "markdown",
   "metadata": {
    "colab_type": "text",
    "id": "0uXtglnFj741"
   },
   "source": [
    "觀察到D類型店家平均每人消費金額最高\n",
    "\n",
    "---\n",
    "\n"
   ]
  },
  {
   "cell_type": "code",
   "execution_count": 30,
   "metadata": {
    "colab": {
     "base_uri": "https://localhost:8080/",
     "height": 515
    },
    "colab_type": "code",
    "id": "PMGMl8rplwt1",
    "outputId": "bde8f674-1e98-4f2f-a75f-19a6b34e4b06"
   },
   "outputs": [
    {
     "data": {
      "text/plain": [
       "<matplotlib.axes._subplots.AxesSubplot at 0x7f97577695c0>"
      ]
     },
     "execution_count": 30,
     "metadata": {
      "tags": []
     },
     "output_type": "execute_result"
    },
    {
     "data": {
      "image/png": "[encoded data removed]",
      "text/plain": [
       "<Figure size 1080x576 with 2 Axes>"
      ]
     },
     "metadata": {
      "needs_background": "light",
      "tags": []
     },
     "output_type": "display_data"
    }
   ],
   "source": [
    "fig, (axis1, axis2) = plt.subplots(1, 2, figsize=(15, 8))\n",
    "sns.barplot(x=\"StateHoliday\", y=\"Sales\", data=train_df, ax=axis1, ci=None)\n",
    "sns.barplot(x=\"StateHoliday\", y=\"avg_sales\", data=train_df, ax=axis2, ci=None)"
   ]
  },
  {
   "cell_type": "code",
   "execution_count": 31,
   "metadata": {
    "colab": {
     "base_uri": "https://localhost:8080/",
     "height": 515
    },
    "colab_type": "code",
    "id": "9714_6ygEcA4",
    "outputId": "aa7e4a73-dcc1-4ffa-a374-d885c7c83a61"
   },
   "outputs": [
    {
     "data": {
      "text/plain": [
       "<matplotlib.axes._subplots.AxesSubplot at 0x7f975771d860>"
      ]
     },
     "execution_count": 31,
     "metadata": {
      "tags": []
     },
     "output_type": "execute_result"
    },
    {
     "data": {
      "image/png": "[encoded data removed]",
      "text/plain": [
       "<Figure size 1080x576 with 2 Axes>"
      ]
     },
     "metadata": {
      "needs_background": "light",
      "tags": []
     },
     "output_type": "display_data"
    }
   ],
   "source": [
    "fig, (axis1, axis2) = plt.subplots(1, 2, figsize=(15, 8))\n",
    "sns.barplot(x=\"StoreType\", y=\"Sales\", data=train_df, ax=axis1, ci=None)\n",
    "sns.barplot(x=\"StoreType\", y=\"avg_sales\", data=train_df, ax=axis2, ci=None)"
   ]
  },
  {
   "cell_type": "code",
   "execution_count": 32,
   "metadata": {
    "colab": {
     "base_uri": "https://localhost:8080/",
     "height": 516
    },
    "colab_type": "code",
    "id": "18biDF0Cx3bs",
    "outputId": "59d35f93-c7de-46c7-b54e-a1355fae3919"
   },
   "outputs": [
    {
     "data": {
      "text/plain": [
       "<matplotlib.axes._subplots.AxesSubplot at 0x7f975765d048>"
      ]
     },
     "execution_count": 32,
     "metadata": {
      "tags": []
     },
     "output_type": "execute_result"
    },
    {
     "data": {
      "image/png": "[encoded data removed]",
      "text/plain": [
       "<Figure size 1080x576 with 2 Axes>"
      ]
     },
     "metadata": {
      "needs_background": "light",
      "tags": []
     },
     "output_type": "display_data"
    }
   ],
   "source": [
    "fig, (axis1, axis2) = plt.subplots(1, 2, figsize=(15, 8))\n",
    "sns.barplot(x=\"SchoolHoliday\", y=\"Sales\", data=train_df, ax=axis1, ci=None)\n",
    "sns.barplot(x=\"SchoolHoliday\", y=\"avg_sales\", data=train_df, ax=axis2, ci=None)"
   ]
  },
  {
   "cell_type": "code",
   "execution_count": 33,
   "metadata": {
    "colab": {
     "base_uri": "https://localhost:8080/",
     "height": 515
    },
    "colab_type": "code",
    "id": "qO4VjmRLyflj",
    "outputId": "55903016-9341-47d6-956a-447da11f6ea3"
   },
   "outputs": [
    {
     "data": {
      "text/plain": [
       "<matplotlib.axes._subplots.AxesSubplot at 0x7f97575a6860>"
      ]
     },
     "execution_count": 33,
     "metadata": {
      "tags": []
     },
     "output_type": "execute_result"
    },
    {
     "data": {
      "image/png": "[encoded data removed]",
      "text/plain": [
       "<Figure size 1080x576 with 2 Axes>"
      ]
     },
     "metadata": {
      "needs_background": "light",
      "tags": []
     },
     "output_type": "display_data"
    }
   ],
   "source": [
    "fig, (axis1, axis2) = plt.subplots(1, 2, figsize=(15, 8))\n",
    "sns.barplot(x=\"Promo\", y=\"Sales\", data=train_df, ax=axis1, ci=None)\n",
    "sns.barplot(x=\"Promo\", y=\"avg_sales\", data=train_df, ax=axis2, ci=None)"
   ]
  },
  {
   "cell_type": "code",
   "execution_count": 34,
   "metadata": {
    "colab": {
     "base_uri": "https://localhost:8080/",
     "height": 967
    },
    "colab_type": "code",
    "id": "Inu_ab62mvU_",
    "outputId": "e4068976-b3c9-433e-f7cb-9c40a026869d"
   },
   "outputs": [
    {
     "data": {
      "text/plain": [
       "<matplotlib.axes._subplots.AxesSubplot at 0x7f97574f5828>"
      ]
     },
     "execution_count": 34,
     "metadata": {
      "tags": []
     },
     "output_type": "execute_result"
    },
    {
     "data": {
      "image/png": "[encoded data removed]",
      "text/plain": [
       "<Figure size 1800x1152 with 1 Axes>"
      ]
     },
     "metadata": {
      "needs_background": "light",
      "tags": []
     },
     "output_type": "display_data"
    }
   ],
   "source": [
    "fig, axes = plt.subplots(1,1)\n",
    "fig.set_size_inches(25, 16)\n",
    "plt.title('Every Month and weekday sales', size=15) \n",
    "sns.barplot(x=\"Month\", y=\"Sales\", data=train_df ,hue=\"DayOfWeek\")"
   ]
  },
  {
   "cell_type": "code",
   "execution_count": 35,
   "metadata": {
    "colab": {
     "base_uri": "https://localhost:8080/",
     "height": 307
    },
    "colab_type": "code",
    "id": "E67REcHpm04Y",
    "outputId": "b9a95fbf-f06e-4212-8875-5164aee58b6d"
   },
   "outputs": [
    {
     "data": {
      "text/plain": [
       "<matplotlib.axes._subplots.AxesSubplot at 0x7f97572daf60>"
      ]
     },
     "execution_count": 35,
     "metadata": {
      "tags": []
     },
     "output_type": "execute_result"
    },
    {
     "data": {
      "image/png": "[encoded data removed]",
      "text/plain": [
       "<Figure size 432x288 with 1 Axes>"
      ]
     },
     "metadata": {
      "needs_background": "light",
      "tags": []
     },
     "output_type": "display_data"
    }
   ],
   "source": [
    "grouped_weekday = train_df.groupby('DayOfWeek')\n",
    "sales_weekday = grouped_weekday.Sales.sum()\n",
    "sales_weekday.plot()\n",
    "#觀察到禮拜一與禮拜五通常業績最好但週末就會瞬間掉下來"
   ]
  },
  {
   "cell_type": "code",
   "execution_count": 36,
   "metadata": {
    "colab": {
     "base_uri": "https://localhost:8080/",
     "height": 315
    },
    "colab_type": "code",
    "id": "7dJWm_6LCBea",
    "outputId": "6b3eabc4-fd5c-470f-eb44-7433a959b486"
   },
   "outputs": [
    {
     "data": {
      "text/plain": [
       "<matplotlib.axes._subplots.AxesSubplot at 0x7f97571e8358>"
      ]
     },
     "execution_count": 36,
     "metadata": {
      "tags": []
     },
     "output_type": "execute_result"
    },
    {
     "data": {
      "image/png": "[encoded data removed]",
      "text/plain": [
       "<Figure size 432x288 with 1 Axes>"
      ]
     },
     "metadata": {
      "needs_background": "light",
      "tags": []
     },
     "output_type": "display_data"
    }
   ],
   "source": [
    "plt.title('CompetitionDistance sales', size=15) \n",
    "sns.scatterplot(x=\"CompetitionDistance\", y=\"Sales\",data=train_df.sample(frac=0.001,random_state=1))\n"
   ]
  },
  {
   "cell_type": "code",
   "execution_count": 37,
   "metadata": {
    "colab": {
     "base_uri": "https://localhost:8080/",
     "height": 378
    },
    "colab_type": "code",
    "id": "F70qnLYeJsuM",
    "outputId": "1876e6a0-ac3f-4db4-92bc-d9e74bc178be"
   },
   "outputs": [
    {
     "data": {
      "text/html": [
       "<div>\n",
       "<style scoped>\n",
       "    .dataframe tbody tr th:only-of-type {\n",
       "        vertical-align: middle;\n",
       "    }\n",
       "\n",
       "    .dataframe tbody tr th {\n",
       "        vertical-align: top;\n",
       "    }\n",
       "\n",
       "    .dataframe thead th {\n",
       "        text-align: right;\n",
       "    }\n",
       "</style>\n",
       "<table border=\"1\" class=\"dataframe\">\n",
       "  <thead>\n",
       "    <tr style=\"text-align: right;\">\n",
       "      <th></th>\n",
       "      <th>Id</th>\n",
       "      <th>Store</th>\n",
       "      <th>DayOfWeek</th>\n",
       "      <th>Date</th>\n",
       "      <th>Open</th>\n",
       "      <th>Promo</th>\n",
       "      <th>StateHoliday</th>\n",
       "      <th>SchoolHoliday</th>\n",
       "      <th>Year</th>\n",
       "      <th>Month</th>\n",
       "      <th>Day</th>\n",
       "      <th>WeekOfYear</th>\n",
       "      <th>Season</th>\n",
       "      <th>SeasonOfYear</th>\n",
       "    </tr>\n",
       "  </thead>\n",
       "  <tbody>\n",
       "    <tr>\n",
       "      <th>479</th>\n",
       "      <td>480</td>\n",
       "      <td>622</td>\n",
       "      <td>4</td>\n",
       "      <td>2015-09-17</td>\n",
       "      <td>NaN</td>\n",
       "      <td>1</td>\n",
       "      <td>0</td>\n",
       "      <td>0</td>\n",
       "      <td>2015</td>\n",
       "      <td>9</td>\n",
       "      <td>17</td>\n",
       "      <td>38</td>\n",
       "      <td>3</td>\n",
       "      <td>20153</td>\n",
       "    </tr>\n",
       "    <tr>\n",
       "      <th>1335</th>\n",
       "      <td>1336</td>\n",
       "      <td>622</td>\n",
       "      <td>3</td>\n",
       "      <td>2015-09-16</td>\n",
       "      <td>NaN</td>\n",
       "      <td>1</td>\n",
       "      <td>0</td>\n",
       "      <td>0</td>\n",
       "      <td>2015</td>\n",
       "      <td>9</td>\n",
       "      <td>16</td>\n",
       "      <td>38</td>\n",
       "      <td>3</td>\n",
       "      <td>20153</td>\n",
       "    </tr>\n",
       "    <tr>\n",
       "      <th>2191</th>\n",
       "      <td>2192</td>\n",
       "      <td>622</td>\n",
       "      <td>2</td>\n",
       "      <td>2015-09-15</td>\n",
       "      <td>NaN</td>\n",
       "      <td>1</td>\n",
       "      <td>0</td>\n",
       "      <td>0</td>\n",
       "      <td>2015</td>\n",
       "      <td>9</td>\n",
       "      <td>15</td>\n",
       "      <td>38</td>\n",
       "      <td>3</td>\n",
       "      <td>20153</td>\n",
       "    </tr>\n",
       "    <tr>\n",
       "      <th>3047</th>\n",
       "      <td>3048</td>\n",
       "      <td>622</td>\n",
       "      <td>1</td>\n",
       "      <td>2015-09-14</td>\n",
       "      <td>NaN</td>\n",
       "      <td>1</td>\n",
       "      <td>0</td>\n",
       "      <td>0</td>\n",
       "      <td>2015</td>\n",
       "      <td>9</td>\n",
       "      <td>14</td>\n",
       "      <td>38</td>\n",
       "      <td>3</td>\n",
       "      <td>20153</td>\n",
       "    </tr>\n",
       "    <tr>\n",
       "      <th>4759</th>\n",
       "      <td>4760</td>\n",
       "      <td>622</td>\n",
       "      <td>6</td>\n",
       "      <td>2015-09-12</td>\n",
       "      <td>NaN</td>\n",
       "      <td>0</td>\n",
       "      <td>0</td>\n",
       "      <td>0</td>\n",
       "      <td>2015</td>\n",
       "      <td>9</td>\n",
       "      <td>12</td>\n",
       "      <td>37</td>\n",
       "      <td>3</td>\n",
       "      <td>20153</td>\n",
       "    </tr>\n",
       "    <tr>\n",
       "      <th>5615</th>\n",
       "      <td>5616</td>\n",
       "      <td>622</td>\n",
       "      <td>5</td>\n",
       "      <td>2015-09-11</td>\n",
       "      <td>NaN</td>\n",
       "      <td>0</td>\n",
       "      <td>0</td>\n",
       "      <td>0</td>\n",
       "      <td>2015</td>\n",
       "      <td>9</td>\n",
       "      <td>11</td>\n",
       "      <td>37</td>\n",
       "      <td>3</td>\n",
       "      <td>20153</td>\n",
       "    </tr>\n",
       "    <tr>\n",
       "      <th>6471</th>\n",
       "      <td>6472</td>\n",
       "      <td>622</td>\n",
       "      <td>4</td>\n",
       "      <td>2015-09-10</td>\n",
       "      <td>NaN</td>\n",
       "      <td>0</td>\n",
       "      <td>0</td>\n",
       "      <td>0</td>\n",
       "      <td>2015</td>\n",
       "      <td>9</td>\n",
       "      <td>10</td>\n",
       "      <td>37</td>\n",
       "      <td>3</td>\n",
       "      <td>20153</td>\n",
       "    </tr>\n",
       "    <tr>\n",
       "      <th>7327</th>\n",
       "      <td>7328</td>\n",
       "      <td>622</td>\n",
       "      <td>3</td>\n",
       "      <td>2015-09-09</td>\n",
       "      <td>NaN</td>\n",
       "      <td>0</td>\n",
       "      <td>0</td>\n",
       "      <td>0</td>\n",
       "      <td>2015</td>\n",
       "      <td>9</td>\n",
       "      <td>9</td>\n",
       "      <td>37</td>\n",
       "      <td>3</td>\n",
       "      <td>20153</td>\n",
       "    </tr>\n",
       "    <tr>\n",
       "      <th>8183</th>\n",
       "      <td>8184</td>\n",
       "      <td>622</td>\n",
       "      <td>2</td>\n",
       "      <td>2015-09-08</td>\n",
       "      <td>NaN</td>\n",
       "      <td>0</td>\n",
       "      <td>0</td>\n",
       "      <td>0</td>\n",
       "      <td>2015</td>\n",
       "      <td>9</td>\n",
       "      <td>8</td>\n",
       "      <td>37</td>\n",
       "      <td>3</td>\n",
       "      <td>20153</td>\n",
       "    </tr>\n",
       "    <tr>\n",
       "      <th>9039</th>\n",
       "      <td>9040</td>\n",
       "      <td>622</td>\n",
       "      <td>1</td>\n",
       "      <td>2015-09-07</td>\n",
       "      <td>NaN</td>\n",
       "      <td>0</td>\n",
       "      <td>0</td>\n",
       "      <td>0</td>\n",
       "      <td>2015</td>\n",
       "      <td>9</td>\n",
       "      <td>7</td>\n",
       "      <td>37</td>\n",
       "      <td>3</td>\n",
       "      <td>20153</td>\n",
       "    </tr>\n",
       "    <tr>\n",
       "      <th>10751</th>\n",
       "      <td>10752</td>\n",
       "      <td>622</td>\n",
       "      <td>6</td>\n",
       "      <td>2015-09-05</td>\n",
       "      <td>NaN</td>\n",
       "      <td>0</td>\n",
       "      <td>0</td>\n",
       "      <td>0</td>\n",
       "      <td>2015</td>\n",
       "      <td>9</td>\n",
       "      <td>5</td>\n",
       "      <td>36</td>\n",
       "      <td>3</td>\n",
       "      <td>20153</td>\n",
       "    </tr>\n",
       "  </tbody>\n",
       "</table>\n",
       "</div>"
      ],
      "text/plain": [
       "          Id  Store  DayOfWeek       Date  ...  Day  WeekOfYear Season  SeasonOfYear\n",
       "479      480    622          4 2015-09-17  ...   17          38      3         20153\n",
       "1335    1336    622          3 2015-09-16  ...   16          38      3         20153\n",
       "2191    2192    622          2 2015-09-15  ...   15          38      3         20153\n",
       "3047    3048    622          1 2015-09-14  ...   14          38      3         20153\n",
       "4759    4760    622          6 2015-09-12  ...   12          37      3         20153\n",
       "5615    5616    622          5 2015-09-11  ...   11          37      3         20153\n",
       "6471    6472    622          4 2015-09-10  ...   10          37      3         20153\n",
       "7327    7328    622          3 2015-09-09  ...    9          37      3         20153\n",
       "8183    8184    622          2 2015-09-08  ...    8          37      3         20153\n",
       "9039    9040    622          1 2015-09-07  ...    7          37      3         20153\n",
       "10751  10752    622          6 2015-09-05  ...    5          36      3         20153\n",
       "\n",
       "[11 rows x 14 columns]"
      ]
     },
     "execution_count": 37,
     "metadata": {
      "tags": []
     },
     "output_type": "execute_result"
    }
   ],
   "source": [
    "test[test['Open'].isnull()]\n",
    "#查看test的缺失值，觀察到全部集中在store622上，判斷單純為缺失值並無任何意義\n"
   ]
  },
  {
   "cell_type": "code",
   "execution_count": 38,
   "metadata": {
    "colab": {},
    "colab_type": "code",
    "id": "giAv1KxoxGvy"
   },
   "outputs": [],
   "source": [
    "#將缺失值調整為1並將變數改為int類型\n",
    "test['Open']=test['Open'].fillna(1)\n",
    "test['Open']=test['Open'].astype(int)"
   ]
  },
  {
   "cell_type": "code",
   "execution_count": 39,
   "metadata": {
    "colab": {
     "base_uri": "https://localhost:8080/",
     "height": 385
    },
    "colab_type": "code",
    "id": "dQ024rDo19kN",
    "outputId": "71528023-b4b9-4cb1-9992-07895f28dfb4"
   },
   "outputs": [
    {
     "name": "stdout",
     "output_type": "stream",
     "text": [
      "<class 'pandas.core.frame.DataFrame'>\n",
      "RangeIndex: 41088 entries, 0 to 41087\n",
      "Data columns (total 14 columns):\n",
      " #   Column         Non-Null Count  Dtype         \n",
      "---  ------         --------------  -----         \n",
      " 0   Id             41088 non-null  int64         \n",
      " 1   Store          41088 non-null  int64         \n",
      " 2   DayOfWeek      41088 non-null  int64         \n",
      " 3   Date           41088 non-null  datetime64[ns]\n",
      " 4   Open           41088 non-null  int64         \n",
      " 5   Promo          41088 non-null  int64         \n",
      " 6   StateHoliday   41088 non-null  object        \n",
      " 7   SchoolHoliday  41088 non-null  int64         \n",
      " 8   Year           41088 non-null  int64         \n",
      " 9   Month          41088 non-null  int64         \n",
      " 10  Day            41088 non-null  int64         \n",
      " 11  WeekOfYear     41088 non-null  int64         \n",
      " 12  Season         41088 non-null  int64         \n",
      " 13  SeasonOfYear   41088 non-null  object        \n",
      "dtypes: datetime64[ns](1), int64(11), object(2)\n",
      "memory usage: 4.4+ MB\n"
     ]
    }
   ],
   "source": [
    "test.info()"
   ]
  },
  {
   "cell_type": "code",
   "execution_count": 40,
   "metadata": {
    "colab": {
     "base_uri": "https://localhost:8080/",
     "height": 420
    },
    "colab_type": "code",
    "id": "F80-21AQ2328",
    "outputId": "fb44dda4-161f-4f08-a8e1-3421b86f1bb4"
   },
   "outputs": [
    {
     "name": "stdout",
     "output_type": "stream",
     "text": [
      "<class 'pandas.core.frame.DataFrame'>\n",
      "RangeIndex: 1017209 entries, 0 to 1017208\n",
      "Data columns (total 16 columns):\n",
      " #   Column         Non-Null Count    Dtype         \n",
      "---  ------         --------------    -----         \n",
      " 0   Store          1017209 non-null  int64         \n",
      " 1   DayOfWeek      1017209 non-null  int64         \n",
      " 2   Date           1017209 non-null  datetime64[ns]\n",
      " 3   Sales          1017209 non-null  int64         \n",
      " 4   Customers      1017209 non-null  int64         \n",
      " 5   Open           1017209 non-null  int64         \n",
      " 6   Promo          1017209 non-null  int64         \n",
      " 7   StateHoliday   1017209 non-null  object        \n",
      " 8   SchoolHoliday  1017209 non-null  int64         \n",
      " 9   Year           1017209 non-null  int64         \n",
      " 10  Month          1017209 non-null  int64         \n",
      " 11  Day            1017209 non-null  int64         \n",
      " 12  WeekOfYear     1017209 non-null  int64         \n",
      " 13  Season         1017209 non-null  int64         \n",
      " 14  SeasonOfYear   1017209 non-null  object        \n",
      " 15  avg_sales      844340 non-null   float64       \n",
      "dtypes: datetime64[ns](1), float64(1), int64(12), object(2)\n",
      "memory usage: 124.2+ MB\n"
     ]
    }
   ],
   "source": [
    "train.info()"
   ]
  },
  {
   "cell_type": "code",
   "execution_count": 41,
   "metadata": {
    "colab": {},
    "colab_type": "code",
    "id": "3y6flfpU26Mn"
   },
   "outputs": [],
   "source": [
    "#將train與test的資料與store資料合併\n",
    "test_df = pd.merge(test,store,how='inner',left_on=['Store'],right_on=['Store'])"
   ]
  },
  {
   "cell_type": "code",
   "execution_count": 42,
   "metadata": {
    "colab": {},
    "colab_type": "code",
    "id": "OGubuJxopH1H"
   },
   "outputs": [],
   "source": [
    "#將'PromoInterval'特徵轉化為'IsPromoMonth'特徵,表示某天某店舖是否處於促銷月，1表示是，0表示否\n",
    "month2str = {1:'Jan', 2:'Feb', 3:'Mar', 4:'Apr', 5:'May', 6:'Jun',7:'Jul', 8:'Aug', 9:'Sept', 10:'Oct', 11:'Nov', 12:'Dec'}\n",
    "test_df['monthStr'] = test_df.Month.map(month2str)\n",
    "test_df.loc[test_df.PromoInterval == 0, 'PromoInterval'] = ''\n",
    "test_df['IsPromoMonth'] = 0\n",
    "for interval in test_df.PromoInterval.unique():\n",
    "    if interval != '':\n",
    "        for month in interval.split(','):\n",
    "            test_df.loc[(test_df.monthStr == month) & (test_df.PromoInterval == interval), 'IsPromoMonth'] = 1 "
   ]
  },
  {
   "cell_type": "code",
   "execution_count": 43,
   "metadata": {
    "colab": {},
    "colab_type": "code",
    "id": "fvi5Ur45LYPr"
   },
   "outputs": [],
   "source": [
    "test_df['ct_open'] = 12 * (test_df.Year - test_df.CompetitionOpenSinceYear) +(test_df.Month - test_df.CompetitionOpenSinceMonth)\n",
    "test_df['ct_open'] = test_df.ct_open.apply(lambda x: x if x > 0 else 0)        \n",
    "test_df['PromoOpen'] = 12 * (test_df.Year - test_df.Promo2SinceYear) + (test_df.WeekOfYear - test_df.Promo2SinceWeek) / 4.0\n",
    "test_df['PromoOpen'] = test_df.PromoOpen.apply(lambda x: x if x > 0 else 0)\n",
    "\n",
    "\n",
    "mappings = {'0':0, 'a':1, 'b':2, 'c':3, 'd':4}\n",
    "test_df.Assortment.replace(mappings,inplace=True)\n",
    "test_df.StateHoliday.replace(mappings,inplace=True)\n",
    "test_df.StoreType.replace(mappings,inplace=True)\n",
    "\n",
    "\n"
   ]
  },
  {
   "cell_type": "code",
   "execution_count": 44,
   "metadata": {
    "colab": {
     "base_uri": "https://localhost:8080/",
     "height": 690
    },
    "colab_type": "code",
    "id": "f42cdItUq_Of",
    "outputId": "123df7b7-c428-4b4d-d4c5-17d42f93aff4"
   },
   "outputs": [
    {
     "data": {
      "text/plain": [
       "<matplotlib.axes._subplots.AxesSubplot at 0x7f97571d3978>"
      ]
     },
     "execution_count": 44,
     "metadata": {
      "tags": []
     },
     "output_type": "execute_result"
    },
    {
     "data": {
      "image/png": "[encoded data removed]",
      "text/plain": [
       "<Figure size 792x648 with 2 Axes>"
      ]
     },
     "metadata": {
      "needs_background": "light",
      "tags": []
     },
     "output_type": "display_data"
    }
   ],
   "source": [
    "f, ax = plt.subplots(figsize = (11, 9))\n",
    "                     \n",
    "corr = train_df.drop(\"Open\",axis=1).corr()\n",
    "\n",
    "mask = np.zeros_like(corr, dtype = np.bool)\n",
    "mask[np.triu_indices_from(mask)] = True\n",
    "\n",
    "sns.heatmap(corr, mask = mask,\n",
    "            square = True, linewidths = .5, ax = ax, cmap = \"Blues\")"
   ]
  },
  {
   "cell_type": "code",
   "execution_count": 45,
   "metadata": {
    "colab": {},
    "colab_type": "code",
    "id": "VaZWDUTXodRw"
   },
   "outputs": [],
   "source": [
    "train_df.drop(['Date','Customers','Open','PromoInterval','SeasonOfYear','monthStr','avg_sales'], axis = 1, inplace = True)\n",
    "test_dfxx = test_df.drop(['Id','Date','Open','PromoInterval','monthStr','SeasonOfYear'], axis = 1)\n"
   ]
  },
  {
   "cell_type": "markdown",
   "metadata": {
    "colab_type": "text",
    "id": "MQzn2R-ipHYT"
   },
   "source": [
    "從圖表中判斷出跟sales 最有想觀的是promo"
   ]
  },
  {
   "cell_type": "code",
   "execution_count": 46,
   "metadata": {
    "colab": {
     "base_uri": "https://localhost:8080/",
     "height": 406
    },
    "colab_type": "code",
    "id": "TPnAMDDXtHsA",
    "outputId": "a55f7908-a9e3-48d1-eb7d-ea209373c2e6"
   },
   "outputs": [
    {
     "data": {
      "text/plain": [
       "<matplotlib.axes._subplots.AxesSubplot at 0x7f9757055ba8>"
      ]
     },
     "execution_count": 46,
     "metadata": {
      "tags": []
     },
     "output_type": "execute_result"
    },
    {
     "data": {
      "image/png": "[encoded data removed]",
      "text/plain": [
       "<Figure size 576x144 with 1 Axes>"
      ]
     },
     "metadata": {
      "needs_background": "light",
      "tags": []
     },
     "output_type": "display_data"
    },
    {
     "data": {
      "image/png": "[encoded data removed]",
      "text/plain": [
       "<Figure size 576x144 with 1 Axes>"
      ]
     },
     "metadata": {
      "needs_background": "light",
      "tags": []
     },
     "output_type": "display_data"
    }
   ],
   "source": [
    "store_train = train[train.Sales>0]\n",
    "store_train.loc[store_train['Store']==5 ,['Date','Sales']].plot(x='Date',y='Sales',title='Store5',figsize=(8,2),xlim=['2014-6-1','2014-7-31'])\n",
    "store_train.loc[store_train['Store']==5 ,['Date','Sales']].plot(x='Date',y='Sales',title='Store5',figsize=(8,2),xlim=['2014-8-1','2014-9-30'])"
   ]
  },
  {
   "cell_type": "code",
   "execution_count": 47,
   "metadata": {
    "colab": {
     "base_uri": "https://localhost:8080/",
     "height": 406
    },
    "colab_type": "code",
    "id": "ZGpfZTZitzuk",
    "outputId": "8ad02266-4aa3-46b6-c5f9-8b1cbf6bb380"
   },
   "outputs": [
    {
     "data": {
      "text/plain": [
       "<matplotlib.axes._subplots.AxesSubplot at 0x7f9756f70f60>"
      ]
     },
     "execution_count": 47,
     "metadata": {
      "tags": []
     },
     "output_type": "execute_result"
    },
    {
     "data": {
      "image/png": "[encoded data removed]",
      "text/plain": [
       "<Figure size 576x144 with 1 Axes>"
      ]
     },
     "metadata": {
      "needs_background": "light",
      "tags": []
     },
     "output_type": "display_data"
    },
    {
     "data": {
      "image/png": "[encoded data removed]",
      "text/plain": [
       "<Figure size 576x144 with 1 Axes>"
      ]
     },
     "metadata": {
      "needs_background": "light",
      "tags": []
     },
     "output_type": "display_data"
    }
   ],
   "source": [
    "store_train.loc[store_train['Store']==50 ,['Date','Sales']].plot(x='Date',y='Sales',title='Store100',figsize=(8,2),xlim=['2014-6-1','2014-7-31'])\n",
    "store_train.loc[store_train['Store']==50 ,['Date','Sales']].plot(x='Date',y='Sales',title='Store100',figsize=(8,2),xlim=['2014-8-1','2014-9-30'])"
   ]
  },
  {
   "cell_type": "code",
   "execution_count": 48,
   "metadata": {
    "colab": {},
    "colab_type": "code",
    "id": "bZhsGWtpuAbD"
   },
   "outputs": [],
   "source": [
    "#觀察到每個店家購買的週期有一定的頻率此次分析是要分析2015的8-9月份，從圖表中觀察到2014的6-7月與2014的8-9月看似有一定的週期，外加通常會拿最接近要預測的時間的資料作為驗證集所以在此就將2015的6-7月作為驗證集"
   ]
  },
  {
   "cell_type": "code",
   "execution_count": 49,
   "metadata": {
    "colab": {},
    "colab_type": "code",
    "id": "sIOC8RvemyjK"
   },
   "outputs": [],
   "source": [
    "from sklearn.model_selection import train_test_split, GridSearchCV, RandomizedSearchCV"
   ]
  },
  {
   "cell_type": "code",
   "execution_count": 50,
   "metadata": {
    "colab": {},
    "colab_type": "code",
    "id": "dSu_2RQdpRE4"
   },
   "outputs": [],
   "source": [
    "train_x = train_df.drop(['Sales'],axis=1)\n",
    "train_y = np.log(train_df['Sales'])\n",
    "\n",
    "X_train, X_test, y_train, y_test = train_test_split(train_x, \n",
    "                                                    train_y, \n",
    "                                                    test_size = 0.3,\n",
    "                                                    random_state = 42)"
   ]
  },
  {
   "cell_type": "code",
   "execution_count": 51,
   "metadata": {
    "colab": {},
    "colab_type": "code",
    "id": "Zy1NUA3jpX5N"
   },
   "outputs": [],
   "source": [
    "def ToWeight(y):\n",
    "    w = np.zeros(y.shape, dtype=float)\n",
    "    ind = y != 0\n",
    "    w[ind] = 1./(y[ind]**2)\n",
    "    return w\n",
    "\n",
    "def rmspe(yhat, y):\n",
    "    w = ToWeight(y)\n",
    "    rmspe = np.sqrt(np.mean( w * (y - yhat)**2 ))\n",
    "    return rmspe\n",
    "\n",
    "def rmspe_xg(yhat, y):\n",
    "    # y = y.values\n",
    "    y = y.get_label()\n",
    "    y = np.exp(y) - 1\n",
    "    yhat = np.exp(yhat) - 1\n",
    "    w = ToWeight(y)\n",
    "    rmspe = np.sqrt(np.mean(w * (y - yhat)**2))\n",
    "    return \"rmspe\", rmspe"
   ]
  },
  {
   "cell_type": "code",
   "execution_count": 63,
   "metadata": {
    "colab": {
     "base_uri": "https://localhost:8080/",
     "height": 140
    },
    "colab_type": "code",
    "id": "l4mU0zOwW5tm",
    "outputId": "e10cf979-414f-4eb2-d21f-e6f65b13940b"
   },
   "outputs": [
    {
     "data": {
      "text/plain": [
       "RandomForestRegressor(bootstrap=True, ccp_alpha=0.0, criterion='mse',\n",
       "                      max_depth=None, max_features='auto', max_leaf_nodes=None,\n",
       "                      max_samples=None, min_impurity_decrease=0.0,\n",
       "                      min_impurity_split=None, min_samples_leaf=1,\n",
       "                      min_samples_split=2, min_weight_fraction_leaf=0.0,\n",
       "                      n_estimators=100, n_jobs=None, oob_score=False,\n",
       "                      random_state=None, verbose=0, warm_start=False)"
      ]
     },
     "execution_count": 63,
     "metadata": {
      "tags": []
     },
     "output_type": "execute_result"
    }
   ],
   "source": [
    "\n",
    "from sklearn.ensemble import RandomForestRegressor\n",
    "train_x1 = train_df.drop(['Sales'],axis=1)\n",
    "train_1 = train_df['Sales']\n",
    "X_train1, X_test1, y_train1, y_test1 = train_test_split(train_x1, \n",
    "                                                    train_1, \n",
    "                                                    test_size = 0.3,\n",
    "                                                    random_state = 42)\n",
    "randomforest_test = RandomForestRegressor()\n",
    "randomforest_test.fit(X_train1,np.log1p(y_train1))\n",
    "\n"
   ]
  },
  {
   "cell_type": "code",
   "execution_count": 83,
   "metadata": {
    "colab": {},
    "colab_type": "code",
    "id": "_xmKWYMqU79R"
   },
   "outputs": [],
   "source": [
    "y_pred1 = randomforest_test.predict(test_dfxx)"
   ]
  },
  {
   "cell_type": "code",
   "execution_count": 88,
   "metadata": {
    "colab": {},
    "colab_type": "code",
    "id": "jFyTopU7UqTr"
   },
   "outputs": [],
   "source": [
    "id_list = pd.read_csv('test.csv').Id.values\n",
    "name = 'fusion'\n",
    "submission= pd.DataFrame({'Id':id_list,'Sales':np.expm1(y_pred1)})\n",
    "submission.to_csv(\"xgboost_rossman_submission.csv\",index=False)"
   ]
  },
  {
   "cell_type": "code",
   "execution_count": 52,
   "metadata": {
    "colab": {},
    "colab_type": "code",
    "id": "KkezqXdrslaV"
   },
   "outputs": [],
   "source": [
    "import xgboost as xgb\n",
    "from xgboost.sklearn import XGBRegressor\n",
    "\n",
    "params = {\n",
    "    'booster': 'gbtree',\n",
    "    'objective': 'reg:linear',  # 多分类的问题\n",
    "    'gamma': 0.1,                  # 用于控制是否后剪枝的参数,越大越保守，一般0.1、0.2这样子。\n",
    "    'max_depth': 8,               # 构建树的深度，越大越容易过拟合\n",
    "    'subsample': 0.5,              # 随机采样训练样本\n",
    "    'colsample_bytree': 0.3,       # 生成树时进行的列采样\n",
    "    'min_child_weight': 3,\n",
    "    'silent': 1,                   # 设置成1则没有运行信息输出，最好是设置为0.\n",
    "    'random_state':5,\n",
    "    'eta': 0.1                    # 如同学习率\n",
    "     }    "
   ]
  },
  {
   "cell_type": "code",
   "execution_count": 53,
   "metadata": {
    "colab": {},
    "colab_type": "code",
    "id": "AHMhSPYTsoH1"
   },
   "outputs": [],
   "source": [
    "\n",
    "dtrain = xgb.DMatrix(X_train, y_train)\n",
    "dtest = xgb.DMatrix(X_test, y_test)\n",
    "\n",
    "watchlist = [(dtrain, 'train'), (dtest, 'test')]"
   ]
  },
  {
   "cell_type": "code",
   "execution_count": null,
   "metadata": {
    "colab": {},
    "colab_type": "code",
    "id": "ylcwM9Qos1J1"
   },
   "outputs": [],
   "source": [
    "\n",
    "xgb_model = xgb.train(params, dtrain, 1000, \n",
    "                      evals = watchlist,\n",
    "                      early_stopping_rounds = 500, \n",
    "                      feval = rmspe_xg,\n",
    "                      verbose_eval = True)"
   ]
  },
  {
   "cell_type": "code",
   "execution_count": null,
   "metadata": {
    "colab": {},
    "colab_type": "code",
    "id": "82yI5_isGvbC"
   },
   "outputs": [],
   "source": [
    "result1 = xgb.DMatrix(test_dfxx)\n",
    "test_predict1 = xgb_model.predict(result1)\n",
    "\n",
    "forecasts = pd.DataFrame({'Id': test_df['Id'], \n",
    "                          'Sales': np.exp(test_predict1)})\n",
    "forecasts.to_csv('forecasts20.csv',index = False)\n",
    "\n",
    "forecasts.head()"
   ]
  },
  {
   "cell_type": "code",
   "execution_count": null,
   "metadata": {
    "colab": {},
    "colab_type": "code",
    "id": "vDyPnmNO2PRp"
   },
   "outputs": [],
   "source": [
    "params_skxgb = {'max_depth': 6, \n",
    "            'n_estimators': 300, # the same as num_rounds in xgboost\n",
    "            'objective': 'reg:linear', \n",
    "            'subsample': 0.8, \n",
    "            'colsample_bytree': 0.8, \n",
    "            'learning_rate': 0.3, \n",
    "            'seed': 42}     \n",
    "\n",
    "skxgb_model = XGBRegressor(**params_skxgb)\n",
    "\n",
    "skxgb_model.fit(X_train, y_train)"
   ]
  },
  {
   "cell_type": "code",
   "execution_count": null,
   "metadata": {
    "colab": {
     "base_uri": "https://localhost:8080/",
     "height": 595
    },
    "colab_type": "code",
    "id": "AvmHnvLm_FI3",
    "outputId": "235e3cab-9e2b-4183-f56e-6ff159630727"
   },
   "outputs": [
    {
     "name": "stdout",
     "output_type": "stream",
     "text": [
      "[14:09:07] WARNING: /workspace/src/objective/regression_obj.cu:152: reg:linear is now deprecated in favor of reg:squarederror.\n",
      "[14:18:55] WARNING: /workspace/src/objective/regression_obj.cu:152: reg:linear is now deprecated in favor of reg:squarederror.\n",
      "[14:28:43] WARNING: /workspace/src/objective/regression_obj.cu:152: reg:linear is now deprecated in favor of reg:squarederror.\n",
      "[14:38:30] WARNING: /workspace/src/objective/regression_obj.cu:152: reg:linear is now deprecated in favor of reg:squarederror.\n",
      "[14:40:58] WARNING: /workspace/src/objective/regression_obj.cu:152: reg:linear is now deprecated in favor of reg:squarederror.\n",
      "[14:43:26] WARNING: /workspace/src/objective/regression_obj.cu:152: reg:linear is now deprecated in favor of reg:squarederror.\n",
      "[14:45:55] WARNING: /workspace/src/objective/regression_obj.cu:152: reg:linear is now deprecated in favor of reg:squarederror.\n",
      "[14:48:11] WARNING: /workspace/src/objective/regression_obj.cu:152: reg:linear is now deprecated in favor of reg:squarederror.\n",
      "[14:50:27] WARNING: /workspace/src/objective/regression_obj.cu:152: reg:linear is now deprecated in favor of reg:squarederror.\n",
      "[14:52:43] WARNING: /workspace/src/objective/regression_obj.cu:152: reg:linear is now deprecated in favor of reg:squarederror.\n",
      "[14:58:04] WARNING: /workspace/src/objective/regression_obj.cu:152: reg:linear is now deprecated in favor of reg:squarederror.\n",
      "[15:03:21] WARNING: /workspace/src/objective/regression_obj.cu:152: reg:linear is now deprecated in favor of reg:squarederror.\n",
      "[15:08:38] WARNING: /workspace/src/objective/regression_obj.cu:152: reg:linear is now deprecated in favor of reg:squarederror.\n",
      "[15:10:47] WARNING: /workspace/src/objective/regression_obj.cu:152: reg:linear is now deprecated in favor of reg:squarederror.\n",
      "[15:12:56] WARNING: /workspace/src/objective/regression_obj.cu:152: reg:linear is now deprecated in favor of reg:squarederror.\n",
      "[15:15:04] WARNING: /workspace/src/objective/regression_obj.cu:152: reg:linear is now deprecated in favor of reg:squarederror.\n",
      "[15:19:58] WARNING: /workspace/src/objective/regression_obj.cu:152: reg:linear is now deprecated in favor of reg:squarederror.\n",
      "[15:24:48] WARNING: /workspace/src/objective/regression_obj.cu:152: reg:linear is now deprecated in favor of reg:squarederror.\n",
      "[15:29:40] WARNING: /workspace/src/objective/regression_obj.cu:152: reg:linear is now deprecated in favor of reg:squarederror.\n",
      "[15:31:43] WARNING: /workspace/src/objective/regression_obj.cu:152: reg:linear is now deprecated in favor of reg:squarederror.\n",
      "[15:33:47] WARNING: /workspace/src/objective/regression_obj.cu:152: reg:linear is now deprecated in favor of reg:squarederror.\n",
      "[15:35:50] WARNING: /workspace/src/objective/regression_obj.cu:152: reg:linear is now deprecated in favor of reg:squarederror.\n",
      "[15:39:37] WARNING: /workspace/src/objective/regression_obj.cu:152: reg:linear is now deprecated in favor of reg:squarederror.\n",
      "[15:43:29] WARNING: /workspace/src/objective/regression_obj.cu:152: reg:linear is now deprecated in favor of reg:squarederror.\n",
      "[15:47:19] WARNING: /workspace/src/objective/regression_obj.cu:152: reg:linear is now deprecated in favor of reg:squarederror.\n",
      "[15:48:57] WARNING: /workspace/src/objective/regression_obj.cu:152: reg:linear is now deprecated in favor of reg:squarederror.\n",
      "[15:50:34] WARNING: /workspace/src/objective/regression_obj.cu:152: reg:linear is now deprecated in favor of reg:squarederror.\n",
      "[15:52:13] WARNING: /workspace/src/objective/regression_obj.cu:152: reg:linear is now deprecated in favor of reg:squarederror.\n",
      "[15:53:19] WARNING: /workspace/src/objective/regression_obj.cu:152: reg:linear is now deprecated in favor of reg:squarederror.\n",
      "[15:54:25] WARNING: /workspace/src/objective/regression_obj.cu:152: reg:linear is now deprecated in favor of reg:squarederror.\n",
      "[15:55:30] WARNING: /workspace/src/objective/regression_obj.cu:152: reg:linear is now deprecated in favor of reg:squarederror.\n",
      "{'subsample': 0.8, 'reg_alpha': 25, 'random_state': 10, 'min_child_weight': 3, 'max_depth': 100, 'learning_rate': 0.1, 'gamma': 0.7, 'colsample_bytree': 0.7}\n",
      "0.9012337984579629\n"
     ]
    }
   ],
   "source": [
    "params_grid = {  \n",
    "    'learning_rate': [0.1,0.2,0.3,0.01,0.05],\n",
    "    'max_depth': [6,10,15,50,100,150],\n",
    "    'gamma': [0.7,0.8,0.9,0.1,1],\n",
    "    'min_child_weight': [3,5,10,20,30,50,100],\n",
    "    'subsample': [0.8,1,0.5,0.3],\n",
    "    'random_state':[5,10,100,200,300],\n",
    "    'colsample_bytree': [0.7,0.5,0.3,0.1]\n",
    "    }\n",
    "\n",
    "\n",
    "search_xgb = RandomizedSearchCV(skxgb_model, params_grid, cv = 3) # 3 fold cross validation\n",
    "search_xgb.fit(X_train, y_train)\n",
    "\n",
    "# best parameters\n",
    "print(search_xgb.best_params_); print(search_xgb.best_score_)"
   ]
  },
  {
   "cell_type": "code",
   "execution_count": null,
   "metadata": {
    "colab": {},
    "colab_type": "code",
    "id": "wZonPDdy89Z8"
   },
   "outputs": [],
   "source": [
    "X_xtrain_md = X_train_md.drop(['Sales'],axis=1 )\n",
    "X_ytrain_md = np.log1p(X_train_md.Sales)\n",
    "X_xtest_md = X_test_md.drop(['Sales'],axis=1 )\n",
    "X_ytest_md = np.log1p(X_test_md.Sales)"
   ]
  },
  {
   "cell_type": "code",
   "execution_count": 73,
   "metadata": {
    "colab": {},
    "colab_type": "code",
    "id": "hHus_7nlZ3Vj"
   },
   "outputs": [],
   "source": [
    "params_final1 = {\n",
    "    'booster': 'gbtree',\n",
    "    'objective': 'reg:linear',  # 多分类的问题\n",
    "    'gamma': 0.1,                  # 用于控制是否后剪枝的参数,越大越保守，一般0.1、0.2这样子。\n",
    "    'max_depth': 100,               # 构建树的深度，越大越容易过拟合\n",
    "    'subsample': 0.8,              # 随机采样训练样本\n",
    "    'colsample_bytree': 0.7,       # 生成树时进行的列采样\n",
    "    'min_child_weight': 3,\n",
    "    'silent': 1,                   # 设置成1则没有运行信息输出，最好是设置为0.\n",
    "    'random_state':5,\n",
    "    'eta': 0.1                    # 如同学习率\n",
    "     }          \n",
    "     "
   ]
  },
  {
   "cell_type": "code",
   "execution_count": 74,
   "metadata": {
    "colab": {
     "base_uri": "https://localhost:8080/",
     "height": 1000
    },
    "colab_type": "code",
    "id": "STkivPJHaPRB",
    "outputId": "0fb06d76-5e33-4841-bf8b-b784d9e9deae"
   },
   "outputs": [
    {
     "name": "stdout",
     "output_type": "stream",
     "text": [
      "[0]\ttrain-rmse:7.44322\ttest-rmse:7.44365\ttrain-rmspe:0.999527\ttest-rmspe:0.999527\n",
      "Multiple eval metrics have been passed: 'test-rmspe' will be used for early stopping.\n",
      "\n",
      "Will train until test-rmspe hasn't improved in 200 rounds.\n",
      "[1]\ttrain-rmse:6.70076\ttest-rmse:6.70115\ttrain-rmspe:0.998822\ttest-rmspe:0.998822\n",
      "[2]\ttrain-rmse:6.0324\ttest-rmse:6.03288\ttrain-rmspe:0.997553\ttest-rmspe:0.997553\n",
      "[3]\ttrain-rmse:5.43122\ttest-rmse:5.43171\ttrain-rmspe:0.995414\ttest-rmspe:0.995416\n",
      "[4]\ttrain-rmse:4.89014\ttest-rmse:4.89064\ttrain-rmspe:0.992041\ttest-rmspe:0.992045\n",
      "[5]\ttrain-rmse:4.40319\ttest-rmse:4.40371\ttrain-rmspe:0.986999\ttest-rmspe:0.987004\n",
      "[6]\ttrain-rmse:3.96476\ttest-rmse:3.96527\ttrain-rmspe:0.97986\ttest-rmspe:0.979868\n",
      "[7]\ttrain-rmse:3.57059\ttest-rmse:3.57108\ttrain-rmspe:0.970114\ttest-rmspe:0.970122\n",
      "[8]\ttrain-rmse:3.21569\ttest-rmse:3.21621\ttrain-rmspe:0.95751\ttest-rmspe:0.957519\n",
      "[9]\ttrain-rmse:2.89653\ttest-rmse:2.89704\ttrain-rmspe:0.941661\ttest-rmspe:0.941662\n",
      "[10]\ttrain-rmse:2.60926\ttest-rmse:2.60977\ttrain-rmspe:0.922485\ttest-rmspe:0.922479\n",
      "[11]\ttrain-rmse:2.3508\ttest-rmse:2.35133\ttrain-rmspe:0.899943\ttest-rmspe:0.899926\n",
      "[12]\ttrain-rmse:2.1185\ttest-rmse:2.11903\ttrain-rmspe:0.874075\ttest-rmspe:0.874023\n",
      "[13]\ttrain-rmse:1.90967\ttest-rmse:1.91017\ttrain-rmspe:0.845101\ttest-rmspe:0.845012\n",
      "[14]\ttrain-rmse:1.7221\ttest-rmse:1.72262\ttrain-rmspe:0.813423\ttest-rmspe:0.813256\n",
      "[15]\ttrain-rmse:1.5535\ttest-rmse:1.55399\ttrain-rmspe:0.779525\ttest-rmspe:0.779234\n",
      "[16]\ttrain-rmse:1.40139\ttest-rmse:1.40193\ttrain-rmspe:0.744193\ttest-rmspe:0.743747\n",
      "[17]\ttrain-rmse:1.26399\ttest-rmse:1.26453\ttrain-rmspe:0.707867\ttest-rmspe:0.707201\n",
      "[18]\ttrain-rmse:1.14024\ttest-rmse:1.14081\ttrain-rmspe:0.670885\ttest-rmspe:0.669912\n",
      "[19]\ttrain-rmse:1.02916\ttest-rmse:1.02976\ttrain-rmspe:0.633505\ttest-rmspe:0.632185\n",
      "[20]\ttrain-rmse:0.929132\ttest-rmse:0.929774\ttrain-rmspe:0.596101\ttest-rmspe:0.594751\n",
      "[21]\ttrain-rmse:0.839492\ttest-rmse:0.840184\ttrain-rmspe:0.559252\ttest-rmspe:0.557781\n",
      "[22]\ttrain-rmse:0.759332\ttest-rmse:0.760086\ttrain-rmspe:0.523295\ttest-rmspe:0.521688\n",
      "[23]\ttrain-rmse:0.687358\ttest-rmse:0.688221\ttrain-rmspe:0.488389\ttest-rmspe:0.486956\n",
      "[24]\ttrain-rmse:0.622498\ttest-rmse:0.623502\ttrain-rmspe:0.455144\ttest-rmspe:0.453665\n",
      "[25]\ttrain-rmse:0.56494\ttest-rmse:0.566123\ttrain-rmspe:0.423522\ttest-rmspe:0.422156\n",
      "[26]\ttrain-rmse:0.511448\ttest-rmse:0.512735\ttrain-rmspe:0.393356\ttest-rmspe:0.391988\n",
      "[27]\ttrain-rmse:0.464993\ttest-rmse:0.466522\ttrain-rmspe:0.36524\ttest-rmspe:0.364088\n",
      "[28]\ttrain-rmse:0.423482\ttest-rmse:0.425368\ttrain-rmspe:0.33883\ttest-rmspe:0.338298\n",
      "[29]\ttrain-rmse:0.384958\ttest-rmse:0.387082\ttrain-rmspe:0.314185\ttest-rmspe:0.313958\n",
      "[30]\ttrain-rmse:0.352147\ttest-rmse:0.354567\ttrain-rmspe:0.291984\ttest-rmspe:0.292227\n",
      "[31]\ttrain-rmse:0.320561\ttest-rmse:0.323226\ttrain-rmspe:0.270381\ttest-rmspe:0.271177\n",
      "[32]\ttrain-rmse:0.293139\ttest-rmse:0.29631\ttrain-rmspe:0.25069\ttest-rmspe:0.252682\n",
      "[33]\ttrain-rmse:0.269791\ttest-rmse:0.273525\ttrain-rmspe:0.233262\ttest-rmspe:0.236573\n",
      "[34]\ttrain-rmse:0.247501\ttest-rmse:0.251722\ttrain-rmspe:0.216622\ttest-rmspe:0.221014\n",
      "[35]\ttrain-rmse:0.228169\ttest-rmse:0.233054\ttrain-rmspe:0.201787\ttest-rmspe:0.207683\n",
      "[36]\ttrain-rmse:0.211144\ttest-rmse:0.216721\ttrain-rmspe:0.188574\ttest-rmspe:0.195979\n",
      "[37]\ttrain-rmse:0.196017\ttest-rmse:0.202345\ttrain-rmspe:0.176811\ttest-rmspe:0.185724\n",
      "[38]\ttrain-rmse:0.181513\ttest-rmse:0.18843\ttrain-rmspe:0.165357\ttest-rmspe:0.17557\n",
      "[39]\ttrain-rmse:0.169945\ttest-rmse:0.177701\ttrain-rmspe:0.156138\ttest-rmspe:0.167898\n",
      "[40]\ttrain-rmse:0.158403\ttest-rmse:0.166714\ttrain-rmspe:0.14689\ttest-rmspe:0.159869\n",
      "[41]\ttrain-rmse:0.14923\ttest-rmse:0.15832\ttrain-rmspe:0.139347\ttest-rmspe:0.154112\n",
      "[42]\ttrain-rmse:0.14089\ttest-rmse:0.150726\ttrain-rmspe:0.132541\ttest-rmspe:0.148793\n",
      "[43]\ttrain-rmse:0.133852\ttest-rmse:0.144436\ttrain-rmspe:0.126787\ttest-rmspe:0.144382\n",
      "[44]\ttrain-rmse:0.127022\ttest-rmse:0.138249\ttrain-rmspe:0.12121\ttest-rmspe:0.140047\n",
      "[45]\ttrain-rmse:0.121042\ttest-rmse:0.132703\ttrain-rmspe:0.116432\ttest-rmspe:0.136428\n",
      "[46]\ttrain-rmse:0.116664\ttest-rmse:0.128951\ttrain-rmspe:0.112868\ttest-rmspe:0.134007\n",
      "[47]\ttrain-rmse:0.112175\ttest-rmse:0.124994\ttrain-rmspe:0.109181\ttest-rmspe:0.131293\n",
      "[48]\ttrain-rmse:0.108293\ttest-rmse:0.121598\ttrain-rmspe:0.105959\ttest-rmspe:0.129186\n",
      "[49]\ttrain-rmse:0.104899\ttest-rmse:0.118718\ttrain-rmspe:0.103257\ttest-rmspe:0.127247\n",
      "[50]\ttrain-rmse:0.102448\ttest-rmse:0.116753\ttrain-rmspe:0.101284\ttest-rmspe:0.126251\n",
      "[51]\ttrain-rmse:0.10003\ttest-rmse:0.114818\ttrain-rmspe:0.099233\ttest-rmspe:0.12521\n",
      "[52]\ttrain-rmse:0.097363\ttest-rmse:0.11251\ttrain-rmspe:0.097084\ttest-rmspe:0.123547\n",
      "[53]\ttrain-rmse:0.095312\ttest-rmse:0.110798\ttrain-rmspe:0.095413\ttest-rmspe:0.12255\n",
      "[54]\ttrain-rmse:0.094077\ttest-rmse:0.109807\ttrain-rmspe:0.094494\ttest-rmspe:0.122112\n",
      "[55]\ttrain-rmse:0.092631\ttest-rmse:0.108684\ttrain-rmspe:0.09334\ttest-rmspe:0.121483\n",
      "[56]\ttrain-rmse:0.091068\ttest-rmse:0.107335\ttrain-rmspe:0.092097\ttest-rmspe:0.12072\n",
      "[57]\ttrain-rmse:0.089837\ttest-rmse:0.106413\ttrain-rmspe:0.090929\ttest-rmspe:0.120318\n",
      "[58]\ttrain-rmse:0.088895\ttest-rmse:0.105719\ttrain-rmspe:0.090068\ttest-rmspe:0.120048\n",
      "[59]\ttrain-rmse:0.087925\ttest-rmse:0.104981\ttrain-rmspe:0.089178\ttest-rmspe:0.119676\n",
      "[60]\ttrain-rmse:0.086807\ttest-rmse:0.10404\ttrain-rmspe:0.088111\ttest-rmspe:0.118972\n",
      "[61]\ttrain-rmse:0.085968\ttest-rmse:0.103363\ttrain-rmspe:0.08731\ttest-rmspe:0.118483\n",
      "[62]\ttrain-rmse:0.085489\ttest-rmse:0.103017\ttrain-rmspe:0.086905\ttest-rmspe:0.118397\n",
      "[63]\ttrain-rmse:0.084581\ttest-rmse:0.102182\ttrain-rmspe:0.086119\ttest-rmspe:0.117866\n",
      "[64]\ttrain-rmse:0.083745\ttest-rmse:0.101469\ttrain-rmspe:0.085308\ttest-rmspe:0.117511\n",
      "[65]\ttrain-rmse:0.083315\ttest-rmse:0.101184\ttrain-rmspe:0.08488\ttest-rmspe:0.117372\n",
      "[66]\ttrain-rmse:0.082973\ttest-rmse:0.100975\ttrain-rmspe:0.084531\ttest-rmspe:0.117314\n",
      "[67]\ttrain-rmse:0.082359\ttest-rmse:0.100478\ttrain-rmspe:0.083961\ttest-rmspe:0.1168\n",
      "[68]\ttrain-rmse:0.08177\ttest-rmse:0.099989\ttrain-rmspe:0.083367\ttest-rmspe:0.116379\n",
      "[69]\ttrain-rmse:0.081367\ttest-rmse:0.099724\ttrain-rmspe:0.082953\ttest-rmspe:0.116205\n",
      "[70]\ttrain-rmse:0.081065\ttest-rmse:0.099541\ttrain-rmspe:0.082649\ttest-rmspe:0.116079\n",
      "[71]\ttrain-rmse:0.080669\ttest-rmse:0.099189\ttrain-rmspe:0.082312\ttest-rmspe:0.115869\n",
      "[72]\ttrain-rmse:0.080503\ttest-rmse:0.099087\ttrain-rmspe:0.082155\ttest-rmspe:0.115836\n",
      "[73]\ttrain-rmse:0.080258\ttest-rmse:0.098939\ttrain-rmspe:0.081908\ttest-rmspe:0.115739\n",
      "[74]\ttrain-rmse:0.08\ttest-rmse:0.098773\ttrain-rmspe:0.081634\ttest-rmspe:0.115664\n",
      "[75]\ttrain-rmse:0.079787\ttest-rmse:0.098655\ttrain-rmspe:0.081438\ttest-rmspe:0.115628\n",
      "[76]\ttrain-rmse:0.079401\ttest-rmse:0.098322\ttrain-rmspe:0.08105\ttest-rmspe:0.115433\n",
      "[77]\ttrain-rmse:0.079148\ttest-rmse:0.098145\ttrain-rmspe:0.080773\ttest-rmspe:0.115297\n",
      "[78]\ttrain-rmse:0.079012\ttest-rmse:0.098052\ttrain-rmspe:0.080638\ttest-rmspe:0.115209\n",
      "[79]\ttrain-rmse:0.078804\ttest-rmse:0.097881\ttrain-rmspe:0.08045\ttest-rmspe:0.115086\n",
      "[80]\ttrain-rmse:0.07864\ttest-rmse:0.097781\ttrain-rmspe:0.080247\ttest-rmspe:0.114986\n",
      "[81]\ttrain-rmse:0.078423\ttest-rmse:0.097657\ttrain-rmspe:0.079996\ttest-rmspe:0.114878\n",
      "[82]\ttrain-rmse:0.078308\ttest-rmse:0.097592\ttrain-rmspe:0.07986\ttest-rmspe:0.11485\n",
      "[83]\ttrain-rmse:0.078137\ttest-rmse:0.097444\ttrain-rmspe:0.079708\ttest-rmspe:0.114749\n",
      "[84]\ttrain-rmse:0.077979\ttest-rmse:0.097349\ttrain-rmspe:0.079516\ttest-rmspe:0.114683\n",
      "[85]\ttrain-rmse:0.077713\ttest-rmse:0.097141\ttrain-rmspe:0.079245\ttest-rmspe:0.114491\n",
      "[86]\ttrain-rmse:0.077508\ttest-rmse:0.097009\ttrain-rmspe:0.079007\ttest-rmspe:0.114395\n",
      "[87]\ttrain-rmse:0.077402\ttest-rmse:0.096942\ttrain-rmspe:0.078879\ttest-rmspe:0.114315\n",
      "[88]\ttrain-rmse:0.077239\ttest-rmse:0.096822\ttrain-rmspe:0.078701\ttest-rmspe:0.114219\n",
      "[89]\ttrain-rmse:0.077031\ttest-rmse:0.096656\ttrain-rmspe:0.078473\ttest-rmspe:0.114046\n",
      "[90]\ttrain-rmse:0.076925\ttest-rmse:0.096607\ttrain-rmspe:0.078341\ttest-rmspe:0.11401\n",
      "[91]\ttrain-rmse:0.076752\ttest-rmse:0.096467\ttrain-rmspe:0.078148\ttest-rmspe:0.113903\n",
      "[92]\ttrain-rmse:0.076643\ttest-rmse:0.096397\ttrain-rmspe:0.078027\ttest-rmspe:0.113842\n",
      "[93]\ttrain-rmse:0.076511\ttest-rmse:0.096313\ttrain-rmspe:0.077874\ttest-rmspe:0.113754\n",
      "[94]\ttrain-rmse:0.076402\ttest-rmse:0.096248\ttrain-rmspe:0.077753\ttest-rmspe:0.113712\n",
      "[95]\ttrain-rmse:0.076221\ttest-rmse:0.096094\ttrain-rmspe:0.077561\ttest-rmspe:0.113568\n",
      "[96]\ttrain-rmse:0.076123\ttest-rmse:0.096051\ttrain-rmspe:0.077445\ttest-rmspe:0.11353\n",
      "[97]\ttrain-rmse:0.076089\ttest-rmse:0.096023\ttrain-rmspe:0.077413\ttest-rmspe:0.113511\n",
      "[98]\ttrain-rmse:0.076036\ttest-rmse:0.095994\ttrain-rmspe:0.077351\ttest-rmspe:0.113473\n",
      "[99]\ttrain-rmse:0.075917\ttest-rmse:0.095924\ttrain-rmspe:0.077218\ttest-rmspe:0.113427\n",
      "[100]\ttrain-rmse:0.075787\ttest-rmse:0.095817\ttrain-rmspe:0.077072\ttest-rmspe:0.113313\n",
      "[101]\ttrain-rmse:0.075677\ttest-rmse:0.09573\ttrain-rmspe:0.076956\ttest-rmspe:0.113228\n",
      "[102]\ttrain-rmse:0.075607\ttest-rmse:0.095701\ttrain-rmspe:0.076878\ttest-rmspe:0.113211\n",
      "[103]\ttrain-rmse:0.075561\ttest-rmse:0.095675\ttrain-rmspe:0.076825\ttest-rmspe:0.113202\n",
      "[104]\ttrain-rmse:0.075482\ttest-rmse:0.095645\ttrain-rmspe:0.076722\ttest-rmspe:0.113129\n",
      "[105]\ttrain-rmse:0.07541\ttest-rmse:0.095618\ttrain-rmspe:0.076645\ttest-rmspe:0.113089\n",
      "[106]\ttrain-rmse:0.075364\ttest-rmse:0.095564\ttrain-rmspe:0.076598\ttest-rmspe:0.113041\n",
      "[107]\ttrain-rmse:0.075271\ttest-rmse:0.095493\ttrain-rmspe:0.076491\ttest-rmspe:0.112979\n",
      "[108]\ttrain-rmse:0.075189\ttest-rmse:0.095426\ttrain-rmspe:0.076399\ttest-rmspe:0.112936\n",
      "[109]\ttrain-rmse:0.075154\ttest-rmse:0.095413\ttrain-rmspe:0.076359\ttest-rmspe:0.112912\n",
      "[110]\ttrain-rmse:0.075061\ttest-rmse:0.095345\ttrain-rmspe:0.07626\ttest-rmspe:0.112868\n",
      "[111]\ttrain-rmse:0.075008\ttest-rmse:0.095324\ttrain-rmspe:0.076202\ttest-rmspe:0.112862\n",
      "[112]\ttrain-rmse:0.074917\ttest-rmse:0.095264\ttrain-rmspe:0.076102\ttest-rmspe:0.112814\n",
      "[113]\ttrain-rmse:0.074855\ttest-rmse:0.095221\ttrain-rmspe:0.076027\ttest-rmspe:0.112767\n",
      "[114]\ttrain-rmse:0.074812\ttest-rmse:0.095193\ttrain-rmspe:0.075982\ttest-rmspe:0.112739\n",
      "[115]\ttrain-rmse:0.074758\ttest-rmse:0.095172\ttrain-rmspe:0.075912\ttest-rmspe:0.112717\n",
      "[116]\ttrain-rmse:0.074695\ttest-rmse:0.095126\ttrain-rmspe:0.075843\ttest-rmspe:0.112675\n",
      "[117]\ttrain-rmse:0.074636\ttest-rmse:0.095092\ttrain-rmspe:0.075773\ttest-rmspe:0.112643\n",
      "[118]\ttrain-rmse:0.074609\ttest-rmse:0.09508\ttrain-rmspe:0.075744\ttest-rmspe:0.112627\n",
      "[119]\ttrain-rmse:0.074526\ttest-rmse:0.095017\ttrain-rmspe:0.075648\ttest-rmspe:0.1125\n",
      "[120]\ttrain-rmse:0.074475\ttest-rmse:0.094985\ttrain-rmspe:0.075594\ttest-rmspe:0.112466\n",
      "[121]\ttrain-rmse:0.074417\ttest-rmse:0.094943\ttrain-rmspe:0.075527\ttest-rmspe:0.112407\n",
      "[122]\ttrain-rmse:0.074354\ttest-rmse:0.094895\ttrain-rmspe:0.07546\ttest-rmspe:0.112372\n",
      "[123]\ttrain-rmse:0.074311\ttest-rmse:0.094866\ttrain-rmspe:0.07541\ttest-rmspe:0.112343\n",
      "[124]\ttrain-rmse:0.074253\ttest-rmse:0.094839\ttrain-rmspe:0.07535\ttest-rmspe:0.112315\n",
      "[125]\ttrain-rmse:0.074215\ttest-rmse:0.094798\ttrain-rmspe:0.075312\ttest-rmspe:0.112288\n",
      "[126]\ttrain-rmse:0.074172\ttest-rmse:0.094772\ttrain-rmspe:0.075266\ttest-rmspe:0.112272\n",
      "[127]\ttrain-rmse:0.074132\ttest-rmse:0.094752\ttrain-rmspe:0.075222\ttest-rmspe:0.112255\n",
      "[128]\ttrain-rmse:0.074096\ttest-rmse:0.094733\ttrain-rmspe:0.075181\ttest-rmspe:0.112237\n",
      "[129]\ttrain-rmse:0.074057\ttest-rmse:0.09471\ttrain-rmspe:0.07514\ttest-rmspe:0.112224\n",
      "[130]\ttrain-rmse:0.074018\ttest-rmse:0.094682\ttrain-rmspe:0.075099\ttest-rmspe:0.112192\n",
      "[131]\ttrain-rmse:0.073976\ttest-rmse:0.094664\ttrain-rmspe:0.075053\ttest-rmspe:0.11218\n",
      "[132]\ttrain-rmse:0.073941\ttest-rmse:0.094644\ttrain-rmspe:0.075011\ttest-rmspe:0.112166\n",
      "[133]\ttrain-rmse:0.073895\ttest-rmse:0.094628\ttrain-rmspe:0.074958\ttest-rmspe:0.112135\n",
      "[134]\ttrain-rmse:0.073864\ttest-rmse:0.094604\ttrain-rmspe:0.074929\ttest-rmspe:0.112119\n",
      "[135]\ttrain-rmse:0.073813\ttest-rmse:0.094571\ttrain-rmspe:0.074876\ttest-rmspe:0.11211\n",
      "[136]\ttrain-rmse:0.073779\ttest-rmse:0.094558\ttrain-rmspe:0.074836\ttest-rmspe:0.112107\n",
      "[137]\ttrain-rmse:0.07374\ttest-rmse:0.094522\ttrain-rmspe:0.074794\ttest-rmspe:0.112076\n",
      "[138]\ttrain-rmse:0.073698\ttest-rmse:0.094504\ttrain-rmspe:0.074747\ttest-rmspe:0.112069\n",
      "[139]\ttrain-rmse:0.073643\ttest-rmse:0.094484\ttrain-rmspe:0.074686\ttest-rmspe:0.11207\n",
      "[140]\ttrain-rmse:0.073611\ttest-rmse:0.094465\ttrain-rmspe:0.074651\ttest-rmspe:0.112049\n",
      "[141]\ttrain-rmse:0.073555\ttest-rmse:0.094429\ttrain-rmspe:0.074593\ttest-rmspe:0.11202\n",
      "[142]\ttrain-rmse:0.073528\ttest-rmse:0.094415\ttrain-rmspe:0.074564\ttest-rmspe:0.112013\n",
      "[143]\ttrain-rmse:0.073501\ttest-rmse:0.094392\ttrain-rmspe:0.074535\ttest-rmspe:0.111986\n",
      "[144]\ttrain-rmse:0.073484\ttest-rmse:0.094383\ttrain-rmspe:0.074517\ttest-rmspe:0.111966\n",
      "[145]\ttrain-rmse:0.073443\ttest-rmse:0.094362\ttrain-rmspe:0.074471\ttest-rmspe:0.111926\n",
      "[146]\ttrain-rmse:0.073389\ttest-rmse:0.094332\ttrain-rmspe:0.074416\ttest-rmspe:0.111901\n",
      "[147]\ttrain-rmse:0.073355\ttest-rmse:0.094318\ttrain-rmspe:0.074381\ttest-rmspe:0.111882\n",
      "[148]\ttrain-rmse:0.07334\ttest-rmse:0.09431\ttrain-rmspe:0.074364\ttest-rmspe:0.111872\n",
      "[149]\ttrain-rmse:0.073322\ttest-rmse:0.094302\ttrain-rmspe:0.074344\ttest-rmspe:0.111865\n",
      "[150]\ttrain-rmse:0.073291\ttest-rmse:0.094284\ttrain-rmspe:0.074309\ttest-rmspe:0.111846\n",
      "[151]\ttrain-rmse:0.073258\ttest-rmse:0.094262\ttrain-rmspe:0.07427\ttest-rmspe:0.111817\n",
      "[152]\ttrain-rmse:0.073239\ttest-rmse:0.094247\ttrain-rmspe:0.074252\ttest-rmspe:0.111804\n",
      "[153]\ttrain-rmse:0.073207\ttest-rmse:0.094234\ttrain-rmspe:0.074215\ttest-rmspe:0.111789\n",
      "[154]\ttrain-rmse:0.073187\ttest-rmse:0.094222\ttrain-rmspe:0.074193\ttest-rmspe:0.111771\n",
      "[155]\ttrain-rmse:0.073161\ttest-rmse:0.094212\ttrain-rmspe:0.074166\ttest-rmspe:0.111765\n",
      "[156]\ttrain-rmse:0.073123\ttest-rmse:0.094189\ttrain-rmspe:0.074125\ttest-rmspe:0.111734\n",
      "[157]\ttrain-rmse:0.073092\ttest-rmse:0.094177\ttrain-rmspe:0.07409\ttest-rmspe:0.111719\n",
      "[158]\ttrain-rmse:0.073066\ttest-rmse:0.094163\ttrain-rmspe:0.074061\ttest-rmspe:0.111688\n",
      "[159]\ttrain-rmse:0.073025\ttest-rmse:0.094145\ttrain-rmspe:0.074014\ttest-rmspe:0.111684\n",
      "[160]\ttrain-rmse:0.072981\ttest-rmse:0.094121\ttrain-rmspe:0.073965\ttest-rmspe:0.111645\n",
      "[161]\ttrain-rmse:0.072961\ttest-rmse:0.094109\ttrain-rmspe:0.073943\ttest-rmspe:0.111632\n",
      "[162]\ttrain-rmse:0.072937\ttest-rmse:0.094098\ttrain-rmspe:0.073915\ttest-rmspe:0.11162\n",
      "[163]\ttrain-rmse:0.072922\ttest-rmse:0.094086\ttrain-rmspe:0.0739\ttest-rmspe:0.111616\n",
      "[164]\ttrain-rmse:0.072888\ttest-rmse:0.094071\ttrain-rmspe:0.073863\ttest-rmspe:0.111604\n",
      "[165]\ttrain-rmse:0.072864\ttest-rmse:0.094055\ttrain-rmspe:0.073836\ttest-rmspe:0.111592\n",
      "[166]\ttrain-rmse:0.072837\ttest-rmse:0.094035\ttrain-rmspe:0.073808\ttest-rmspe:0.111585\n",
      "[167]\ttrain-rmse:0.07281\ttest-rmse:0.094019\ttrain-rmspe:0.073779\ttest-rmspe:0.11157\n",
      "[168]\ttrain-rmse:0.072788\ttest-rmse:0.094007\ttrain-rmspe:0.073755\ttest-rmspe:0.111559\n",
      "[169]\ttrain-rmse:0.072768\ttest-rmse:0.093997\ttrain-rmspe:0.073732\ttest-rmspe:0.111552\n",
      "[170]\ttrain-rmse:0.072744\ttest-rmse:0.093983\ttrain-rmspe:0.073706\ttest-rmspe:0.111541\n",
      "[171]\ttrain-rmse:0.072721\ttest-rmse:0.093973\ttrain-rmspe:0.073681\ttest-rmspe:0.111534\n",
      "[172]\ttrain-rmse:0.072692\ttest-rmse:0.093959\ttrain-rmspe:0.073649\ttest-rmspe:0.111513\n",
      "[173]\ttrain-rmse:0.072671\ttest-rmse:0.093948\ttrain-rmspe:0.073626\ttest-rmspe:0.111499\n",
      "[174]\ttrain-rmse:0.072644\ttest-rmse:0.093942\ttrain-rmspe:0.073597\ttest-rmspe:0.111505\n",
      "[175]\ttrain-rmse:0.072628\ttest-rmse:0.093929\ttrain-rmspe:0.07358\ttest-rmspe:0.111494\n",
      "[176]\ttrain-rmse:0.072613\ttest-rmse:0.093921\ttrain-rmspe:0.073565\ttest-rmspe:0.111488\n",
      "[177]\ttrain-rmse:0.072585\ttest-rmse:0.093913\ttrain-rmspe:0.073532\ttest-rmspe:0.111481\n",
      "[178]\ttrain-rmse:0.07257\ttest-rmse:0.093898\ttrain-rmspe:0.073516\ttest-rmspe:0.111463\n",
      "[179]\ttrain-rmse:0.072542\ttest-rmse:0.09388\ttrain-rmspe:0.073487\ttest-rmspe:0.111436\n",
      "[180]\ttrain-rmse:0.072538\ttest-rmse:0.093875\ttrain-rmspe:0.073484\ttest-rmspe:0.111426\n",
      "[181]\ttrain-rmse:0.072525\ttest-rmse:0.093871\ttrain-rmspe:0.073469\ttest-rmspe:0.111418\n",
      "[182]\ttrain-rmse:0.072503\ttest-rmse:0.093862\ttrain-rmspe:0.073444\ttest-rmspe:0.111416\n",
      "[183]\ttrain-rmse:0.072492\ttest-rmse:0.093856\ttrain-rmspe:0.073433\ttest-rmspe:0.111407\n",
      "[184]\ttrain-rmse:0.072475\ttest-rmse:0.093848\ttrain-rmspe:0.073414\ttest-rmspe:0.111402\n",
      "[185]\ttrain-rmse:0.072466\ttest-rmse:0.093843\ttrain-rmspe:0.073403\ttest-rmspe:0.111398\n",
      "[186]\ttrain-rmse:0.072452\ttest-rmse:0.093839\ttrain-rmspe:0.073389\ttest-rmspe:0.111386\n",
      "[187]\ttrain-rmse:0.072436\ttest-rmse:0.093831\ttrain-rmspe:0.073372\ttest-rmspe:0.111384\n",
      "[188]\ttrain-rmse:0.072413\ttest-rmse:0.093818\ttrain-rmspe:0.073344\ttest-rmspe:0.111373\n",
      "[189]\ttrain-rmse:0.072398\ttest-rmse:0.093809\ttrain-rmspe:0.073329\ttest-rmspe:0.111366\n",
      "[190]\ttrain-rmse:0.072388\ttest-rmse:0.093803\ttrain-rmspe:0.073318\ttest-rmspe:0.111354\n",
      "[191]\ttrain-rmse:0.072379\ttest-rmse:0.093792\ttrain-rmspe:0.073308\ttest-rmspe:0.111344\n",
      "[192]\ttrain-rmse:0.072372\ttest-rmse:0.093786\ttrain-rmspe:0.073299\ttest-rmspe:0.111337\n",
      "[193]\ttrain-rmse:0.072351\ttest-rmse:0.093777\ttrain-rmspe:0.073277\ttest-rmspe:0.111319\n",
      "[194]\ttrain-rmse:0.072334\ttest-rmse:0.093768\ttrain-rmspe:0.07326\ttest-rmspe:0.111311\n",
      "[195]\ttrain-rmse:0.072321\ttest-rmse:0.09376\ttrain-rmspe:0.073246\ttest-rmspe:0.111291\n",
      "[196]\ttrain-rmse:0.072303\ttest-rmse:0.093751\ttrain-rmspe:0.073225\ttest-rmspe:0.111283\n",
      "[197]\ttrain-rmse:0.07229\ttest-rmse:0.093744\ttrain-rmspe:0.073212\ttest-rmspe:0.111276\n",
      "[198]\ttrain-rmse:0.072273\ttest-rmse:0.093737\ttrain-rmspe:0.073194\ttest-rmspe:0.111267\n",
      "[199]\ttrain-rmse:0.072255\ttest-rmse:0.093732\ttrain-rmspe:0.073172\ttest-rmspe:0.111259\n",
      "[200]\ttrain-rmse:0.072247\ttest-rmse:0.093728\ttrain-rmspe:0.073162\ttest-rmspe:0.111252\n",
      "[201]\ttrain-rmse:0.072218\ttest-rmse:0.093717\ttrain-rmspe:0.073129\ttest-rmspe:0.111244\n",
      "[202]\ttrain-rmse:0.072198\ttest-rmse:0.093702\ttrain-rmspe:0.073109\ttest-rmspe:0.111205\n",
      "[203]\ttrain-rmse:0.072185\ttest-rmse:0.093691\ttrain-rmspe:0.073096\ttest-rmspe:0.111197\n",
      "[204]\ttrain-rmse:0.072168\ttest-rmse:0.093685\ttrain-rmspe:0.07308\ttest-rmspe:0.111199\n",
      "[205]\ttrain-rmse:0.072159\ttest-rmse:0.093678\ttrain-rmspe:0.073071\ttest-rmspe:0.111194\n",
      "[206]\ttrain-rmse:0.072152\ttest-rmse:0.093675\ttrain-rmspe:0.073064\ttest-rmspe:0.111193\n",
      "[207]\ttrain-rmse:0.072137\ttest-rmse:0.093669\ttrain-rmspe:0.073046\ttest-rmspe:0.111198\n",
      "[208]\ttrain-rmse:0.072119\ttest-rmse:0.093666\ttrain-rmspe:0.073025\ttest-rmspe:0.111197\n",
      "[209]\ttrain-rmse:0.072105\ttest-rmse:0.09366\ttrain-rmspe:0.073009\ttest-rmspe:0.11119\n",
      "[210]\ttrain-rmse:0.072092\ttest-rmse:0.093655\ttrain-rmspe:0.072996\ttest-rmspe:0.111185\n",
      "[211]\ttrain-rmse:0.072087\ttest-rmse:0.093654\ttrain-rmspe:0.07299\ttest-rmspe:0.111184\n",
      "[212]\ttrain-rmse:0.072072\ttest-rmse:0.093646\ttrain-rmspe:0.072974\ttest-rmspe:0.111175\n",
      "[213]\ttrain-rmse:0.072048\ttest-rmse:0.093634\ttrain-rmspe:0.072947\ttest-rmspe:0.111159\n",
      "[214]\ttrain-rmse:0.072035\ttest-rmse:0.093628\ttrain-rmspe:0.072933\ttest-rmspe:0.111153\n",
      "[215]\ttrain-rmse:0.072024\ttest-rmse:0.093624\ttrain-rmspe:0.072922\ttest-rmspe:0.111151\n",
      "[216]\ttrain-rmse:0.072018\ttest-rmse:0.093621\ttrain-rmspe:0.072915\ttest-rmspe:0.111148\n",
      "[217]\ttrain-rmse:0.072008\ttest-rmse:0.093615\ttrain-rmspe:0.072905\ttest-rmspe:0.111153\n",
      "[218]\ttrain-rmse:0.071993\ttest-rmse:0.093608\ttrain-rmspe:0.072888\ttest-rmspe:0.11115\n",
      "[219]\ttrain-rmse:0.071974\ttest-rmse:0.093603\ttrain-rmspe:0.072866\ttest-rmspe:0.111147\n",
      "[220]\ttrain-rmse:0.071966\ttest-rmse:0.093598\ttrain-rmspe:0.072858\ttest-rmspe:0.111143\n",
      "[221]\ttrain-rmse:0.071953\ttest-rmse:0.093596\ttrain-rmspe:0.072845\ttest-rmspe:0.111145\n",
      "[222]\ttrain-rmse:0.071932\ttest-rmse:0.093585\ttrain-rmspe:0.072823\ttest-rmspe:0.111124\n",
      "[223]\ttrain-rmse:0.071921\ttest-rmse:0.093579\ttrain-rmspe:0.072809\ttest-rmspe:0.111119\n",
      "[224]\ttrain-rmse:0.071917\ttest-rmse:0.093576\ttrain-rmspe:0.072804\ttest-rmspe:0.111114\n",
      "[225]\ttrain-rmse:0.071902\ttest-rmse:0.093568\ttrain-rmspe:0.072788\ttest-rmspe:0.111106\n",
      "[226]\ttrain-rmse:0.071886\ttest-rmse:0.093562\ttrain-rmspe:0.072769\ttest-rmspe:0.111101\n",
      "[227]\ttrain-rmse:0.071869\ttest-rmse:0.093559\ttrain-rmspe:0.072749\ttest-rmspe:0.111113\n",
      "[228]\ttrain-rmse:0.071862\ttest-rmse:0.093559\ttrain-rmspe:0.07274\ttest-rmspe:0.111112\n",
      "[229]\ttrain-rmse:0.071844\ttest-rmse:0.093556\ttrain-rmspe:0.072718\ttest-rmspe:0.111106\n",
      "[230]\ttrain-rmse:0.071823\ttest-rmse:0.09355\ttrain-rmspe:0.072695\ttest-rmspe:0.111108\n",
      "[231]\ttrain-rmse:0.071811\ttest-rmse:0.093545\ttrain-rmspe:0.072683\ttest-rmspe:0.111107\n",
      "[232]\ttrain-rmse:0.071807\ttest-rmse:0.093542\ttrain-rmspe:0.072679\ttest-rmspe:0.111102\n",
      "[233]\ttrain-rmse:0.071794\ttest-rmse:0.093536\ttrain-rmspe:0.072664\ttest-rmspe:0.111097\n",
      "[234]\ttrain-rmse:0.071779\ttest-rmse:0.093528\ttrain-rmspe:0.072649\ttest-rmspe:0.111085\n",
      "[235]\ttrain-rmse:0.071767\ttest-rmse:0.093525\ttrain-rmspe:0.072636\ttest-rmspe:0.111085\n",
      "[236]\ttrain-rmse:0.071753\ttest-rmse:0.093518\ttrain-rmspe:0.07262\ttest-rmspe:0.11107\n",
      "[237]\ttrain-rmse:0.071746\ttest-rmse:0.093515\ttrain-rmspe:0.072612\ttest-rmspe:0.11107\n",
      "[238]\ttrain-rmse:0.071736\ttest-rmse:0.093509\ttrain-rmspe:0.072602\ttest-rmspe:0.111065\n",
      "[239]\ttrain-rmse:0.071726\ttest-rmse:0.093499\ttrain-rmspe:0.072592\ttest-rmspe:0.111058\n",
      "[240]\ttrain-rmse:0.071722\ttest-rmse:0.093496\ttrain-rmspe:0.072588\ttest-rmspe:0.111055\n",
      "[241]\ttrain-rmse:0.071711\ttest-rmse:0.09349\ttrain-rmspe:0.072577\ttest-rmspe:0.111047\n",
      "[242]\ttrain-rmse:0.071694\ttest-rmse:0.093479\ttrain-rmspe:0.072559\ttest-rmspe:0.111013\n",
      "[243]\ttrain-rmse:0.071685\ttest-rmse:0.093471\ttrain-rmspe:0.072551\ttest-rmspe:0.111002\n",
      "[244]\ttrain-rmse:0.07167\ttest-rmse:0.093463\ttrain-rmspe:0.072535\ttest-rmspe:0.110995\n",
      "[245]\ttrain-rmse:0.071648\ttest-rmse:0.09345\ttrain-rmspe:0.07251\ttest-rmspe:0.110975\n",
      "[246]\ttrain-rmse:0.071638\ttest-rmse:0.093445\ttrain-rmspe:0.072499\ttest-rmspe:0.110977\n",
      "[247]\ttrain-rmse:0.07163\ttest-rmse:0.093441\ttrain-rmspe:0.072491\ttest-rmspe:0.110977\n",
      "[248]\ttrain-rmse:0.071621\ttest-rmse:0.093437\ttrain-rmspe:0.072481\ttest-rmspe:0.110929\n",
      "[249]\ttrain-rmse:0.071608\ttest-rmse:0.09343\ttrain-rmspe:0.072466\ttest-rmspe:0.110924\n",
      "[250]\ttrain-rmse:0.071602\ttest-rmse:0.093427\ttrain-rmspe:0.072459\ttest-rmspe:0.110927\n",
      "[251]\ttrain-rmse:0.071588\ttest-rmse:0.093423\ttrain-rmspe:0.072443\ttest-rmspe:0.110923\n",
      "[252]\ttrain-rmse:0.07158\ttest-rmse:0.093422\ttrain-rmspe:0.072435\ttest-rmspe:0.110923\n",
      "[253]\ttrain-rmse:0.071565\ttest-rmse:0.093415\ttrain-rmspe:0.072418\ttest-rmspe:0.110903\n",
      "[254]\ttrain-rmse:0.071553\ttest-rmse:0.093409\ttrain-rmspe:0.072405\ttest-rmspe:0.1109\n",
      "[255]\ttrain-rmse:0.071543\ttest-rmse:0.093405\ttrain-rmspe:0.072395\ttest-rmspe:0.110903\n",
      "[256]\ttrain-rmse:0.071531\ttest-rmse:0.093397\ttrain-rmspe:0.072382\ttest-rmspe:0.110898\n",
      "[257]\ttrain-rmse:0.07152\ttest-rmse:0.093394\ttrain-rmspe:0.07237\ttest-rmspe:0.110896\n",
      "[258]\ttrain-rmse:0.071507\ttest-rmse:0.09339\ttrain-rmspe:0.072354\ttest-rmspe:0.110893\n",
      "[259]\ttrain-rmse:0.071495\ttest-rmse:0.093384\ttrain-rmspe:0.072343\ttest-rmspe:0.110891\n",
      "[260]\ttrain-rmse:0.071483\ttest-rmse:0.093376\ttrain-rmspe:0.07233\ttest-rmspe:0.11089\n",
      "[261]\ttrain-rmse:0.071469\ttest-rmse:0.093368\ttrain-rmspe:0.072315\ttest-rmspe:0.110886\n",
      "[262]\ttrain-rmse:0.071454\ttest-rmse:0.093359\ttrain-rmspe:0.072299\ttest-rmspe:0.110867\n",
      "[263]\ttrain-rmse:0.071444\ttest-rmse:0.093354\ttrain-rmspe:0.07229\ttest-rmspe:0.110866\n",
      "[264]\ttrain-rmse:0.071426\ttest-rmse:0.093337\ttrain-rmspe:0.07227\ttest-rmspe:0.110842\n",
      "[265]\ttrain-rmse:0.071418\ttest-rmse:0.093335\ttrain-rmspe:0.072262\ttest-rmspe:0.110836\n",
      "[266]\ttrain-rmse:0.071411\ttest-rmse:0.093333\ttrain-rmspe:0.072253\ttest-rmspe:0.110833\n",
      "[267]\ttrain-rmse:0.071404\ttest-rmse:0.093329\ttrain-rmspe:0.072246\ttest-rmspe:0.110833\n",
      "[268]\ttrain-rmse:0.071388\ttest-rmse:0.093324\ttrain-rmspe:0.072229\ttest-rmspe:0.110831\n",
      "[269]\ttrain-rmse:0.071381\ttest-rmse:0.093321\ttrain-rmspe:0.072221\ttest-rmspe:0.110829\n",
      "[270]\ttrain-rmse:0.071371\ttest-rmse:0.093317\ttrain-rmspe:0.07221\ttest-rmspe:0.110827\n",
      "[271]\ttrain-rmse:0.071362\ttest-rmse:0.093314\ttrain-rmspe:0.072201\ttest-rmspe:0.110824\n",
      "[272]\ttrain-rmse:0.071352\ttest-rmse:0.09331\ttrain-rmspe:0.072191\ttest-rmspe:0.110823\n",
      "[273]\ttrain-rmse:0.071349\ttest-rmse:0.09331\ttrain-rmspe:0.072186\ttest-rmspe:0.110821\n",
      "[274]\ttrain-rmse:0.071333\ttest-rmse:0.093301\ttrain-rmspe:0.072167\ttest-rmspe:0.110814\n",
      "[275]\ttrain-rmse:0.071322\ttest-rmse:0.093297\ttrain-rmspe:0.072156\ttest-rmspe:0.110807\n",
      "[276]\ttrain-rmse:0.071308\ttest-rmse:0.093293\ttrain-rmspe:0.072142\ttest-rmspe:0.110809\n",
      "[277]\ttrain-rmse:0.071299\ttest-rmse:0.093291\ttrain-rmspe:0.072133\ttest-rmspe:0.11081\n",
      "[278]\ttrain-rmse:0.071291\ttest-rmse:0.093289\ttrain-rmspe:0.072124\ttest-rmspe:0.110817\n",
      "[279]\ttrain-rmse:0.071284\ttest-rmse:0.093283\ttrain-rmspe:0.072117\ttest-rmspe:0.110815\n",
      "[280]\ttrain-rmse:0.071273\ttest-rmse:0.093282\ttrain-rmspe:0.072103\ttest-rmspe:0.110809\n",
      "[281]\ttrain-rmse:0.071264\ttest-rmse:0.093277\ttrain-rmspe:0.072094\ttest-rmspe:0.110804\n",
      "[282]\ttrain-rmse:0.071263\ttest-rmse:0.093274\ttrain-rmspe:0.072092\ttest-rmspe:0.1108\n",
      "[283]\ttrain-rmse:0.071253\ttest-rmse:0.093271\ttrain-rmspe:0.072081\ttest-rmspe:0.110797\n",
      "[284]\ttrain-rmse:0.071249\ttest-rmse:0.093268\ttrain-rmspe:0.072077\ttest-rmspe:0.110795\n",
      "[285]\ttrain-rmse:0.071245\ttest-rmse:0.093267\ttrain-rmspe:0.072073\ttest-rmspe:0.110793\n",
      "[286]\ttrain-rmse:0.071229\ttest-rmse:0.093261\ttrain-rmspe:0.072056\ttest-rmspe:0.110784\n",
      "[287]\ttrain-rmse:0.071223\ttest-rmse:0.093258\ttrain-rmspe:0.07205\ttest-rmspe:0.110782\n",
      "[288]\ttrain-rmse:0.071222\ttest-rmse:0.093257\ttrain-rmspe:0.072049\ttest-rmspe:0.110784\n",
      "[289]\ttrain-rmse:0.071214\ttest-rmse:0.093254\ttrain-rmspe:0.072041\ttest-rmspe:0.110781\n",
      "[290]\ttrain-rmse:0.07121\ttest-rmse:0.093252\ttrain-rmspe:0.072035\ttest-rmspe:0.110779\n",
      "[291]\ttrain-rmse:0.071199\ttest-rmse:0.093248\ttrain-rmspe:0.072024\ttest-rmspe:0.110778\n",
      "[292]\ttrain-rmse:0.071189\ttest-rmse:0.093243\ttrain-rmspe:0.072014\ttest-rmspe:0.110775\n",
      "[293]\ttrain-rmse:0.071181\ttest-rmse:0.093238\ttrain-rmspe:0.072004\ttest-rmspe:0.110776\n",
      "[294]\ttrain-rmse:0.07116\ttest-rmse:0.09323\ttrain-rmspe:0.071981\ttest-rmspe:0.110767\n",
      "[295]\ttrain-rmse:0.071151\ttest-rmse:0.093223\ttrain-rmspe:0.071971\ttest-rmspe:0.110762\n",
      "[296]\ttrain-rmse:0.071144\ttest-rmse:0.09322\ttrain-rmspe:0.071964\ttest-rmspe:0.110763\n",
      "[297]\ttrain-rmse:0.071139\ttest-rmse:0.093216\ttrain-rmspe:0.071958\ttest-rmspe:0.110756\n",
      "[298]\ttrain-rmse:0.071131\ttest-rmse:0.093211\ttrain-rmspe:0.071948\ttest-rmspe:0.110748\n",
      "[299]\ttrain-rmse:0.071124\ttest-rmse:0.093208\ttrain-rmspe:0.071942\ttest-rmspe:0.110744\n"
     ]
    }
   ],
   "source": [
    "xgb_model_final = xgb.train(params_final1, dtrain, 300, \n",
    "                      evals = watchlist,\n",
    "                      early_stopping_rounds = 200, \n",
    "                      feval = rmspe_xg,\n",
    "                      verbose_eval = True)"
   ]
  },
  {
   "cell_type": "code",
   "execution_count": 89,
   "metadata": {
    "colab": {
     "base_uri": "https://localhost:8080/",
     "height": 312
    },
    "colab_type": "code",
    "id": "tyVAUopT2hMc",
    "outputId": "8e496601-0106-4bee-a53e-a8561d40cd9d"
   },
   "outputs": [
    {
     "data": {
      "text/plain": [
       "<matplotlib.axes._subplots.AxesSubplot at 0x7f31519a0e48>"
      ]
     },
     "execution_count": 89,
     "metadata": {
      "tags": []
     },
     "output_type": "execute_result"
    },
    {
     "data": {
      "image/png": "[encoded data removed]",
      "text/plain": [
       "<Figure size 432x288 with 1 Axes>"
      ]
     },
     "metadata": {
      "needs_background": "light",
      "tags": []
     },
     "output_type": "display_data"
    }
   ],
   "source": [
    "xgb.plot_importance(xgb_model_final)"
   ]
  },
  {
   "cell_type": "code",
   "execution_count": null,
   "metadata": {
    "colab": {},
    "colab_type": "code",
    "id": "paiD0Pb18R7j"
   },
   "outputs": [],
   "source": []
  },
  {
   "cell_type": "code",
   "execution_count": null,
   "metadata": {
    "colab": {},
    "colab_type": "code",
    "id": "5h_1OhCnKA0N"
   },
   "outputs": [],
   "source": []
  }
 ],
 "metadata": {
  "accelerator": "TPU",
  "colab": {
   "collapsed_sections": [],
   "name": "Copy_of_Final_Rossman_Store_Sales.ipynb",
   "provenance": []
  },
  "kernelspec": {
   "display_name": "Python 3",
   "language": "python",
   "name": "python3"
  },
  "language_info": {
   "codemirror_mode": {
    "name": "ipython",
    "version": 3
   },
   "file_extension": ".py",
   "mimetype": "text/x-python",
   "name": "python",
   "nbconvert_exporter": "python",
   "pygments_lexer": "ipython3",
   "version": "3.7.4"
  }
 },
 "nbformat": 4,
 "nbformat_minor": 1
}
